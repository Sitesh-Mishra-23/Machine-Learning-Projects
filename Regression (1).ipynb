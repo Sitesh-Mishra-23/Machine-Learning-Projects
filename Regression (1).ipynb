{
  "nbformat": 4,
  "nbformat_minor": 0,
  "metadata": {
    "colab": {
      "private_outputs": true,
      "provenance": [],
      "collapsed_sections": [
        "vncDsAP0Gaoa",
        "FJNUwmbgGyua",
        "w6K7xa23Elo4",
        "yQaldy8SH6Dl",
        "mDgbUHAGgjLW",
        "HhfV-JJviCcP",
        "Y3lxredqlCYt",
        "3RnN4peoiCZX",
        "x71ZqKXriCWQ",
        "7hBIi_osiCS2",
        "JlHwYmJAmNHm",
        "35m5QtbWiB9F",
        "PoPl-ycgm1ru",
        "H0kj-8xxnORC",
        "nA9Y7ga8ng1Z",
        "PBTbrJXOngz2",
        "u3PMJOP6ngxN",
        "dauF4eBmngu3",
        "bKJF3rekwFvQ",
        "MSa1f5Uengrz",
        "GF8Ens_Soomf",
        "0wOQAZs5pc--",
        "K5QZ13OEpz2H",
        "lQ7QKXXCp7Bj",
        "448CDAPjqfQr",
        "KSlN3yHqYklG",
        "t6dVpIINYklI",
        "ijmpgYnKYklI",
        "-JiQyfWJYklI",
        "EM7whBJCYoAo",
        "fge-S5ZAYoAp",
        "85gYPyotYoAp",
        "RoGjAbkUYoAp",
        "4Of9eVA-YrdM",
        "iky9q4vBYrdO",
        "F6T5p64dYrdO",
        "y-Ehk30pYrdP",
        "bamQiAODYuh1",
        "QHF8YVU7Yuh3",
        "GwzvFGzlYuh3",
        "qYpmQ266Yuh3",
        "OH-pJp9IphqM",
        "bbFf2-_FphqN",
        "_ouA3fa0phqN",
        "Seke61FWphqN",
        "PIIx-8_IphqN",
        "t27r6nlMphqO",
        "r2jJGEOYphqO",
        "b0JNsNcRphqO",
        "BZR9WyysphqO",
        "jj7wYXLtphqO",
        "eZrbJ2SmphqO",
        "rFu4xreNphqO",
        "YJ55k-q6phqO",
        "gCFgpxoyphqP",
        "OVtJsKN_phqQ",
        "lssrdh5qphqQ",
        "U2RJ9gkRphqQ",
        "1M8mcRywphqQ",
        "tgIPom80phqQ",
        "JMzcOPDDphqR",
        "x-EpHcCOp1ci",
        "X_VqEhTip1ck",
        "8zGJKyg5p1ck",
        "PVzmfK_Ep1ck",
        "n3dbpmDWp1ck",
        "ylSl6qgtp1ck",
        "ZWILFDl5p1ck",
        "M7G43BXep1ck",
        "Ag9LCva-p1cl",
        "E6MkPsBcp1cl",
        "2cELzS2fp1cl",
        "3MPXvC8up1cl",
        "NC_X3p0fY2L0",
        "UV0SzAkaZNRQ",
        "YPEH6qLeZNRQ",
        "q29F0dvdveiT",
        "EXh0U9oCveiU",
        "22aHeOlLveiV",
        "g-ATYxFrGrvw",
        "Yfr_Vlr8HBkt",
        "8yEUt7NnHlrM",
        "tEA2Xm5dHt1r",
        "I79__PHVH19G",
        "Ou-I18pAyIpj",
        "fF3858GYyt-u",
        "4_0_7-oCpUZd",
        "hwyV_J3ipUZe",
        "3yB-zSqbpUZe",
        "dEUvejAfpUZe",
        "Fd15vwWVpUZf",
        "bn_IUdTipZyH",
        "49K5P_iCpZyH",
        "Nff-vKELpZyI",
        "kLW572S8pZyI",
        "dWbDXHzopZyI",
        "yLjJCtPM0KBk",
        "xiyOF9F70UgQ",
        "7wuGOrhz0itI",
        "id1riN9m0vUs",
        "578E2V7j08f6",
        "89xtkJwZ18nB",
        "67NQN5KX2AMe",
        "Iwf50b-R2tYG",
        "GMQiZwjn3iu7",
        "WVIkgGqN3qsr",
        "XkPnILGE3zoT",
        "Hlsf0x5436Go",
        "mT9DMSJo4nBL",
        "c49ITxTc407N",
        "OeJFEK0N496M",
        "9ExmJH0g5HBk",
        "cJNqERVU536h",
        "k5UmGsbsOxih",
        "T0VqWOYE6DLQ",
        "qBMux9mC6MCf",
        "-oLEiFgy-5Pf",
        "C74aWNz2AliB",
        "2DejudWSA-a0",
        "pEMng2IbBLp7",
        "rAdphbQ9Bhjc",
        "TNVZ9zx19K6k",
        "nqoHp30x9hH9",
        "rMDnDkt2B6du",
        "yiiVWRdJDDil",
        "1UUpS68QDMuG",
        "kexQrXU-DjzY",
        "T5CmagL3EC8N",
        "BhH2vgX9EjGr",
        "qjKvONjwE8ra",
        "P1XJ9OREExlT",
        "VFOzZv6IFROw",
        "TIqpNgepFxVj",
        "OB4l2ZhMeS1U",
        "ArJBuiUVfxKd",
        "4qY1EAkEfxKe",
        "PiV4Ypx8fxKe",
        "TfvqoZmBfxKf",
        "dJ2tPlVmpsJ0",
        "JWYfwnehpsJ1",
        "-jK_YjpMpsJ2",
        "HAih1iBOpsJ2",
        "zVGeBEFhpsJ2",
        "bmKjuQ-FpsJ3",
        "Fze-IPXLpx6K",
        "7AN1z2sKpx6M",
        "9PIHJqyupx6M",
        "_-qAgymDpx6N",
        "Z-hykwinpx6N",
        "h_CCil-SKHpo",
        "cBFFvTBNJzUa",
        "gCX9965dhzqZ",
        "gIfDvo9L0UH2"
      ]
    },
    "kernelspec": {
      "name": "python3",
      "display_name": "Python 3"
    },
    "language_info": {
      "name": "python"
    }
  },
  "cells": [
    {
      "cell_type": "markdown",
      "source": [
        "# **Project Name**    - Appliance Energy Regression Model\n",
        "\n"
      ],
      "metadata": {
        "id": "vncDsAP0Gaoa"
      }
    },
    {
      "cell_type": "markdown",
      "source": [
        "##### **Project Type**    - Regression\n",
        "##### **Contribution**    - Individual\n",
        "##### **Name -** Sitesh Mishra\n"
      ],
      "metadata": {
        "id": "beRrZCGUAJYm"
      }
    },
    {
      "cell_type": "markdown",
      "source": [
        "# **Project Summary -**"
      ],
      "metadata": {
        "id": "FJNUwmbgGyua"
      }
    },
    {
      "cell_type": "markdown",
      "source": [
        "\n",
        "### **Objective**\n",
        "\n",
        "The goal of this project is to **predict the energy consumption of appliances** based on indoor and outdoor environmental factors such as temperature, humidity, pressure, and windspeed. By developing machine learning models, we aim to understand the key drivers of energy usage and build an accurate predictive system.\n",
        "\n",
        "---\n",
        "\n",
        "### **Dataset Overview**\n",
        "\n",
        "* **Total Records:** 19,735\n",
        "* **Features:** 28 (temperatures `T1–T9`, humidity `RH_1–RH_9`, outdoor conditions `T_out`, `Press_mm_hg`, `RH_out`, etc.)\n",
        "* **Target Variable:** `Appliances` (energy consumption in Wh)\n",
        "* **No Missing Values**\n",
        "* **Time Component:** `date` column (can be used for time-based analysis if needed)\n",
        "\n",
        "---\n",
        "\n",
        "### **Methodology**\n",
        "\n",
        "1. **Exploratory Data Analysis (EDA):**\n",
        "\n",
        "   * Summary statistics, missing value analysis, distribution plots.\n",
        "   * Correlation heatmap to detect multicollinearity.\n",
        "   * Outlier detection (boxplots).\n",
        "\n",
        "2. **Hypothesis Testing:**\n",
        "\n",
        "   * Statistical tests to determine whether certain environmental parameters significantly affect energy consumption.\n",
        "\n",
        "3. **Model Building (Regression):**\n",
        "\n",
        "   * **Linear Regression:** Baseline model.\n",
        "   * **Ridge & Lasso Regression:** Regularized linear models to handle multicollinearity and perform feature selection.\n",
        "   * **Random Forest Regressor:** Tree-based ensemble model for non-linear patterns.\n",
        "   * **XGBoost Regressor:** Gradient boosting model for highest predictive performance.\n",
        "\n",
        "4. **Model Evaluation:**\n",
        "\n",
        "   * Metrics: **R² Score, RMSE, MAE**\n",
        "   * Model comparison to select the best-performing algorithm.\n",
        "\n",
        "---\n",
        "\n",
        "### **Expected Outcome**\n",
        "\n",
        "* Identification of the most influential environmental factors on appliance energy usage.\n",
        "* A robust predictive model that can assist in **energy optimization** and **smart home automation**.\n",
        "\n"
      ],
      "metadata": {
        "id": "F6v_1wHtG2nS"
      }
    },
    {
      "cell_type": "markdown",
      "source": [
        "# **GitHub Link -**"
      ],
      "metadata": {
        "id": "w6K7xa23Elo4"
      }
    },
    {
      "cell_type": "markdown",
      "source": [
        "Provide your GitHub Link here."
      ],
      "metadata": {
        "id": "h1o69JH3Eqqn"
      }
    },
    {
      "cell_type": "markdown",
      "source": [
        "# **Problem Statement**\n"
      ],
      "metadata": {
        "id": "yQaldy8SH6Dl"
      }
    },
    {
      "cell_type": "markdown",
      "source": [
        "With the increasing demand for energy efficiency and smart home automation, predicting energy consumption accurately has become crucial. Appliances’ energy usage in residential buildings is influenced by various environmental factors such as indoor temperatures, humidity levels, and outdoor weather conditions.\n",
        "\n",
        "The challenge is to develop a predictive regression model that can estimate the energy consumption of appliances based on these environmental parameters. An accurate model will not only help in optimizing energy usage but also assist in designing intelligent energy management systems, ultimately contributing to cost savings and sustainability."
      ],
      "metadata": {
        "id": "DpeJGUA3kjGy"
      }
    },
    {
      "cell_type": "markdown",
      "source": [
        "# **General Guidelines** : -  "
      ],
      "metadata": {
        "id": "mDgbUHAGgjLW"
      }
    },
    {
      "cell_type": "markdown",
      "source": [
        "1.   Well-structured, formatted, and commented code is required.\n",
        "2.   Exception Handling, Production Grade Code & Deployment Ready Code will be a plus. Those students will be awarded some additional credits.\n",
        "     \n",
        "     The additional credits will have advantages over other students during Star Student selection.\n",
        "       \n",
        "             [ Note: - Deployment Ready Code is defined as, the whole .ipynb notebook should be executable in one go\n",
        "                       without a single error logged. ]\n",
        "\n",
        "3.   Each and every logic should have proper comments.\n",
        "4. You may add as many number of charts you want. Make Sure for each and every chart the following format should be answered.\n",
        "        \n",
        "\n",
        "```\n",
        "# Chart visualization code\n",
        "```\n",
        "            \n",
        "\n",
        "*   Why did you pick the specific chart?\n",
        "*   What is/are the insight(s) found from the chart?\n",
        "* Will the gained insights help creating a positive business impact?\n",
        "Are there any insights that lead to negative growth? Justify with specific reason.\n",
        "\n",
        "5. You have to create at least 15 logical & meaningful charts having important insights.\n",
        "\n",
        "\n",
        "[ Hints : - Do the Vizualization in  a structured way while following \"UBM\" Rule.\n",
        "\n",
        "U - Univariate Analysis,\n",
        "\n",
        "B - Bivariate Analysis (Numerical - Categorical, Numerical - Numerical, Categorical - Categorical)\n",
        "\n",
        "M - Multivariate Analysis\n",
        " ]\n",
        "\n",
        "\n",
        "\n",
        "\n",
        "\n",
        "6. You may add more ml algorithms for model creation. Make sure for each and every algorithm, the following format should be answered.\n",
        "\n",
        "\n",
        "*   Explain the ML Model used and it's performance using Evaluation metric Score Chart.\n",
        "\n",
        "\n",
        "*   Cross- Validation & Hyperparameter Tuning\n",
        "\n",
        "*   Have you seen any improvement? Note down the improvement with updates Evaluation metric Score Chart.\n",
        "\n",
        "*   Explain each evaluation metric's indication towards business and the business impact pf the ML model used.\n",
        "\n",
        "\n",
        "\n",
        "\n",
        "\n",
        "\n",
        "\n",
        "\n",
        "\n",
        "\n",
        "\n",
        "\n",
        "\n",
        "\n",
        "\n",
        "\n",
        "\n",
        "\n"
      ],
      "metadata": {
        "id": "ZrxVaUj-hHfC"
      }
    },
    {
      "cell_type": "markdown",
      "source": [
        "# ***Let's Begin !***"
      ],
      "metadata": {
        "id": "O_i_v8NEhb9l"
      }
    },
    {
      "cell_type": "markdown",
      "source": [
        "## ***1. Know Your Data***"
      ],
      "metadata": {
        "id": "HhfV-JJviCcP"
      }
    },
    {
      "cell_type": "markdown",
      "source": [
        "### Import Libraries"
      ],
      "metadata": {
        "id": "Y3lxredqlCYt"
      }
    },
    {
      "cell_type": "code",
      "source": [
        "# Import Libraries\n",
        "import numpy as np\n",
        "import pandas as pd\n",
        "import matplotlib.pyplot as plt\n",
        "import seaborn as sns\n",
        "%matplotlib inline\n",
        "from sklearn.linear_model import Lasso, Ridge\n",
        "from sklearn.linear_model import LinearRegression\n",
        "from sklearn.tree import DecisionTreeRegressor\n",
        "from sklearn.metrics import r2_score, mean_squared_error,mean_absolute_error,mean_absolute_percentage_error\n",
        "import math\n",
        "from sklearn.ensemble import AdaBoostRegressor\n",
        "from sklearn.ensemble import GradientBoostingRegressor\n",
        "from sklearn.ensemble import RandomForestRegressor\n",
        "from sklearn.preprocessing import StandardScaler\n",
        "from sklearn.neighbors import KNeighborsRegressor\n",
        "from sklearn.ensemble import VotingRegressor\n",
        "from xgboost import XGBRegressor\n",
        "from sklearn.model_selection import GridSearchCV\n",
        "from sklearn.preprocessing import PolynomialFeatures\n"
      ],
      "metadata": {
        "id": "M8Vqi-pPk-HR"
      },
      "execution_count": null,
      "outputs": []
    },
    {
      "cell_type": "code",
      "source": [
        "from google.colab import drive\n",
        "drive.mount('/content/drive')"
      ],
      "metadata": {
        "id": "bjmDt2iKPGhu"
      },
      "execution_count": null,
      "outputs": []
    },
    {
      "cell_type": "markdown",
      "source": [
        "### Dataset Loading"
      ],
      "metadata": {
        "id": "3RnN4peoiCZX"
      }
    },
    {
      "cell_type": "code",
      "source": [
        "# Load Dataset\n",
        "df=pd.read_csv('/content/drive/MyDrive/Colab Notebooks/Datasets/Copy of data_application_energy.csv')"
      ],
      "metadata": {
        "id": "4CkvbW_SlZ_R"
      },
      "execution_count": null,
      "outputs": []
    },
    {
      "cell_type": "markdown",
      "source": [
        "### Dataset First View"
      ],
      "metadata": {
        "id": "x71ZqKXriCWQ"
      }
    },
    {
      "cell_type": "code",
      "source": [
        "# Dataset First Look\n",
        "df.head()"
      ],
      "metadata": {
        "id": "LWNFOSvLl09H"
      },
      "execution_count": null,
      "outputs": []
    },
    {
      "cell_type": "markdown",
      "source": [
        "### Dataset Rows & Columns count"
      ],
      "metadata": {
        "id": "7hBIi_osiCS2"
      }
    },
    {
      "cell_type": "code",
      "source": [
        "# Dataset Rows & Columns count\n",
        "df.shape"
      ],
      "metadata": {
        "id": "Kllu7SJgmLij"
      },
      "execution_count": null,
      "outputs": []
    },
    {
      "cell_type": "markdown",
      "source": [
        "### Dataset Information"
      ],
      "metadata": {
        "id": "JlHwYmJAmNHm"
      }
    },
    {
      "cell_type": "code",
      "source": [
        "# Dataset Info\n",
        "df.info()"
      ],
      "metadata": {
        "id": "e9hRXRi6meOf"
      },
      "execution_count": null,
      "outputs": []
    },
    {
      "cell_type": "markdown",
      "source": [
        "#### Duplicate Values"
      ],
      "metadata": {
        "id": "35m5QtbWiB9F"
      }
    },
    {
      "cell_type": "code",
      "source": [
        "# Dataset Duplicate Value Count\n",
        "df.duplicated().sum()"
      ],
      "metadata": {
        "id": "1sLdpKYkmox0"
      },
      "execution_count": null,
      "outputs": []
    },
    {
      "cell_type": "markdown",
      "source": [
        "#### Missing Values/Null Values"
      ],
      "metadata": {
        "id": "PoPl-ycgm1ru"
      }
    },
    {
      "cell_type": "code",
      "source": [
        "# Missing Values/Null Values Count\n",
        "print(\"Missing Values in Each Column:\\n\")\n",
        "print(df.isnull().sum())"
      ],
      "metadata": {
        "id": "GgHWkxvamxVg"
      },
      "execution_count": null,
      "outputs": []
    },
    {
      "cell_type": "markdown",
      "source": [
        "### What did you know about your dataset?"
      ],
      "metadata": {
        "id": "H0kj-8xxnORC"
      }
    },
    {
      "cell_type": "markdown",
      "source": [
        "The dataset consists of **19,735 rows and 29 columns**, with the target variable **`Appliances`**, representing energy consumption (in Wh). It includes various **indoor and outdoor environmental parameters** such as temperatures (`T1–T9`), humidity levels (`RH_1–RH_9`), and weather conditions (`T_out`, `RH_out`, `Press_mm_hg`, etc.), along with two random variables (`rv1`, `rv2`). The data is mostly **numeric** (26 float columns, 2 integer columns, and 1 date column), and there are **no missing values**. This is a **regression problem**, as we aim to predict a continuous target variable.\n"
      ],
      "metadata": {
        "id": "gfoNAAC-nUe_"
      }
    },
    {
      "cell_type": "markdown",
      "source": [
        "## ***2. Understanding Your Variables***"
      ],
      "metadata": {
        "id": "nA9Y7ga8ng1Z"
      }
    },
    {
      "cell_type": "code",
      "source": [
        "# Dataset Columns\n",
        "df.columns"
      ],
      "metadata": {
        "id": "j7xfkqrt5Ag5"
      },
      "execution_count": null,
      "outputs": []
    },
    {
      "cell_type": "code",
      "source": [
        "# Dataset Describe\n",
        "df.describe()"
      ],
      "metadata": {
        "id": "DnOaZdaE5Q5t"
      },
      "execution_count": null,
      "outputs": []
    },
    {
      "cell_type": "markdown",
      "source": [
        "### Variables Description"
      ],
      "metadata": {
        "id": "PBTbrJXOngz2"
      }
    },
    {
      "cell_type": "markdown",
      "source": [
        "\n",
        "date-Timestamp of data recording (can be used for time-based analysis).\n",
        "\n",
        "Appliances --  Target variable – energy consumption of appliances (in Wh).\n",
        "\n",
        "lights-\tEnergy consumption of lights (in Wh).\n",
        "\n",
        "T1 – T9\t--Indoor temperatures in different areas of the house (°C).\n",
        "\n",
        "RH_1 – RH_9\t--Relative humidity in different areas of the house (%).\n",
        "\n",
        "T_out--\tOutdoor temperature (°C).\n",
        "\n",
        "RH_out--\tOutdoor relative humidity (%).\n",
        "\n",
        "Press_mm_hg--\tOutdoor air pressure (in mm Hg).\n",
        "\n",
        "Windspeed--\tSpeed of the wind (m/s).\n",
        "\n",
        "Visibility--\tOutdoor visibility (km).\n",
        "\n",
        "Tdewpoint--\tDew point temperature (°C).\n",
        "\n",
        "rv1, rv2\t--Random or residual variables (likely noise or anonymized features).\n"
      ],
      "metadata": {
        "id": "aJV4KIxSnxay"
      }
    },
    {
      "cell_type": "markdown",
      "source": [
        "### Check Unique Values for each variable."
      ],
      "metadata": {
        "id": "u3PMJOP6ngxN"
      }
    },
    {
      "cell_type": "code",
      "source": [
        "# Check Unique Values for each variable.\n",
        "df.nunique()"
      ],
      "metadata": {
        "id": "zms12Yq5n-jE"
      },
      "execution_count": null,
      "outputs": []
    },
    {
      "cell_type": "markdown",
      "source": [
        "## 3. ***Data Wrangling***"
      ],
      "metadata": {
        "id": "dauF4eBmngu3"
      }
    },
    {
      "cell_type": "markdown",
      "source": [
        "### Data Wrangling Code"
      ],
      "metadata": {
        "id": "bKJF3rekwFvQ"
      }
    },
    {
      "cell_type": "code",
      "source": [
        "# Write your code to make your dataset analysis ready.\n",
        "\n",
        "# 1. Convert 'date' to datetime format\n",
        "df['date'] = pd.to_datetime(df['date'])\n",
        "\n",
        "# 2. Drop duplicate rows (if any)\n",
        "df.drop_duplicates(inplace=True)\n",
        "\n",
        "# 3. Handle missing values\n",
        "if df.isnull().sum().sum() > 0:\n",
        "    df.fillna(df.mean(), inplace=True)\n",
        "\n",
        "# 4. Drop irrelevant/noise columns\n",
        "df.drop(['rv1', 'rv2'], axis=1, inplace=True)\n",
        "\n",
        "# 5. Reset index\n",
        "df.reset_index(drop=True, inplace=True)\n",
        "\n",
        "# ✅ Check after cleaning\n",
        "print(\"Shape:\", df.shape)\n",
        "print(\"Missing Values:\", df.isnull().sum().sum())\n",
        "\n",
        "\n"
      ],
      "metadata": {
        "id": "wk-9a2fpoLcV"
      },
      "execution_count": null,
      "outputs": []
    },
    {
      "cell_type": "markdown",
      "source": [
        "### What all manipulations have you done and insights you found?"
      ],
      "metadata": {
        "id": "MSa1f5Uengrz"
      }
    },
    {
      "cell_type": "markdown",
      "source": [
        "###  **Data Manipulations**\n",
        "\n",
        "* Converted `date` to datetime.\n",
        "* Dropped duplicates (none found).\n",
        "* Checked missing values (none found).\n",
        "* Dropped noise columns `rv1` and `rv2`.\n",
        "* Reset index.\n",
        "\n",
        "---\n",
        "\n",
        "###  **Key Insights**\n",
        "\n",
        "* Clean and complete dataset (**19,735 rows × 27 columns**).\n",
        "* Target `Appliances` is continuous → **regression problem**.\n",
        "* Likely **multicollinearity** among temperature & humidity features → to be checked in EDA.\n",
        "\n"
      ],
      "metadata": {
        "id": "LbyXE7I1olp8"
      }
    },
    {
      "cell_type": "markdown",
      "source": [
        "## ***4. Data Vizualization, Storytelling & Experimenting with charts : Understand the relationships between variables***"
      ],
      "metadata": {
        "id": "GF8Ens_Soomf"
      }
    },
    {
      "cell_type": "markdown",
      "source": [
        "#### Chart - 1"
      ],
      "metadata": {
        "id": "0wOQAZs5pc--"
      }
    },
    {
      "cell_type": "code",
      "source": [
        "# Chart - 1 visualization code\n",
        "# Chart 1 - Distribution of Appliances Energy Consumption\n",
        "plt.figure(figsize=(8,5))\n",
        "sns.histplot(df['Appliances'], bins=50, kde=True, color='blue')\n",
        "plt.title(\"Distribution of Appliances Energy Consumption\", fontsize=14)\n",
        "plt.xlabel(\"Energy Consumption (Wh)\")\n",
        "plt.ylabel(\"Frequency\")\n",
        "plt.show()\n"
      ],
      "metadata": {
        "id": "7v_ESjsspbW7"
      },
      "execution_count": null,
      "outputs": []
    },
    {
      "cell_type": "markdown",
      "source": [
        "##### 1. Why did you pick the specific chart?"
      ],
      "metadata": {
        "id": "K5QZ13OEpz2H"
      }
    },
    {
      "cell_type": "markdown",
      "source": [
        "To understand the distribution of the target variable (Appliances), check skewness, and detect outliers, which is crucial before applying regression models."
      ],
      "metadata": {
        "id": "XESiWehPqBRc"
      }
    },
    {
      "cell_type": "markdown",
      "source": [
        "##### 2. What is/are the insight(s) found from the chart?"
      ],
      "metadata": {
        "id": "lQ7QKXXCp7Bj"
      }
    },
    {
      "cell_type": "markdown",
      "source": [
        "Most appliance energy consumption values are low (heavily right-skewed), with a few high-energy spikes (outliers).\n",
        "\n",
        "Indicates that high energy usage is rare and might need special handling (e.g., scaling or log transformation)."
      ],
      "metadata": {
        "id": "C_j1G7yiqdRP"
      }
    },
    {
      "cell_type": "markdown",
      "source": [
        "##### 3. Will the gained insights help creating a positive business impact?\n",
        "Are there any insights that lead to negative growth? Justify with specific reason."
      ],
      "metadata": {
        "id": "448CDAPjqfQr"
      }
    },
    {
      "cell_type": "markdown",
      "source": [
        "Positive: Understanding energy usage patterns helps optimize energy consumption, reduce costs, and improve smart home energy efficiency.\n",
        "\n",
        "Negative Growth Insight: Rare high-consumption spikes could indicate inefficient appliances or overuse, which might increase energy bills if not addressed. Identifying these can guide maintenance or replacement strategies."
      ],
      "metadata": {
        "id": "3cspy4FjqxJW"
      }
    },
    {
      "cell_type": "markdown",
      "source": [
        "#### Chart - 2"
      ],
      "metadata": {
        "id": "KSlN3yHqYklG"
      }
    },
    {
      "cell_type": "code",
      "source": [
        "# Chart - 2 visualization code\n",
        "# Chart 2 - Relationship between Outdoor Temperature and Appliance Energy Consumption\n",
        "plt.figure(figsize=(8,5))\n",
        "sns.scatterplot(x='T_out', y='Appliances', data=df, alpha=0.4, color='green')\n",
        "plt.title(\"Outdoor Temperature vs Appliances Energy Consumption\", fontsize=14)\n",
        "plt.xlabel(\"Outdoor Temperature (°C)\")\n",
        "plt.ylabel(\"Energy Consumption (Wh)\")\n",
        "plt.show()\n"
      ],
      "metadata": {
        "id": "R4YgtaqtYklH"
      },
      "execution_count": null,
      "outputs": []
    },
    {
      "cell_type": "markdown",
      "source": [
        "##### 1. Why did you pick the specific chart?"
      ],
      "metadata": {
        "id": "t6dVpIINYklI"
      }
    },
    {
      "cell_type": "markdown",
      "source": [
        "A scatter plot was chosen to visualize the relationship between outdoor temperature (T_out) and appliance energy consumption, helping us detect patterns or trends for predictive modeling."
      ],
      "metadata": {
        "id": "5aaW0BYyYklI"
      }
    },
    {
      "cell_type": "markdown",
      "source": [
        "##### 2. What is/are the insight(s) found from the chart?"
      ],
      "metadata": {
        "id": "ijmpgYnKYklI"
      }
    },
    {
      "cell_type": "markdown",
      "source": [
        "Slight inverse trend: As outdoor temperature increases, energy consumption seems to decrease slightly (possibly due to reduced heating needs).\n",
        "\n",
        "Significant spread suggests other factors (indoor temp, humidity) also influence energy usage."
      ],
      "metadata": {
        "id": "PSx9atu2YklI"
      }
    },
    {
      "cell_type": "markdown",
      "source": [
        "##### 3. Will the gained insights help creating a positive business impact?\n",
        "Are there any insights that lead to negative growth? Justify with specific reason."
      ],
      "metadata": {
        "id": "-JiQyfWJYklI"
      }
    },
    {
      "cell_type": "markdown",
      "source": [
        "Positive: Knowing this trend can help optimize heating/cooling schedules in smart homes, reducing unnecessary appliance usage during warmer days.\n",
        "\n",
        "Negative Growth Insight: High variability implies that solely relying on outdoor temperature for energy-saving strategies may fail; ignoring indoor conditions can mislead optimization efforts.\n",
        "\n"
      ],
      "metadata": {
        "id": "BcBbebzrYklV"
      }
    },
    {
      "cell_type": "markdown",
      "source": [
        "#### Chart - 3"
      ],
      "metadata": {
        "id": "EM7whBJCYoAo"
      }
    },
    {
      "cell_type": "code",
      "source": [
        "# Chart - 3 visualization code\n",
        "# Chart 3 - Indoor Temperature (T1) vs Appliances Energy Consumption\n",
        "plt.figure(figsize=(8,5))\n",
        "sns.scatterplot(x='T1', y='Appliances', data=df, alpha=0.4, color='orange')\n",
        "plt.title(\"Indoor Temperature (T1) vs Appliances Energy Consumption\", fontsize=14)\n",
        "plt.xlabel(\"Indoor Temperature (°C)\")\n",
        "plt.ylabel(\"Energy Consumption (Wh)\")\n",
        "plt.show()\n"
      ],
      "metadata": {
        "id": "t6GMdE67YoAp"
      },
      "execution_count": null,
      "outputs": []
    },
    {
      "cell_type": "markdown",
      "source": [
        "##### 1. Why did you pick the specific chart?"
      ],
      "metadata": {
        "id": "fge-S5ZAYoAp"
      }
    },
    {
      "cell_type": "markdown",
      "source": [
        "To check how indoor temperature (T1) influences appliance energy usage, especially for heating/cooling optimization."
      ],
      "metadata": {
        "id": "5dBItgRVYoAp"
      }
    },
    {
      "cell_type": "markdown",
      "source": [
        "##### 2. What is/are the insight(s) found from the chart?"
      ],
      "metadata": {
        "id": "85gYPyotYoAp"
      }
    },
    {
      "cell_type": "markdown",
      "source": [
        "energy consumption shows slight upward trend at lower temperatures (possible heating usage).\n",
        "\n",
        "At moderate temperatures, usage is relatively stable."
      ],
      "metadata": {
        "id": "4jstXR6OYoAp"
      }
    },
    {
      "cell_type": "markdown",
      "source": [
        "##### 3. Will the gained insights help creating a positive business impact?\n",
        "Are there any insights that lead to negative growth? Justify with specific reason."
      ],
      "metadata": {
        "id": "RoGjAbkUYoAp"
      }
    },
    {
      "cell_type": "markdown",
      "source": [
        "Positive: Helps determine optimal indoor temperature settings to minimize energy waste (e.g., maintaining moderate indoor temps saves energy).\n",
        "\n",
        "Negative Growth Insight: Over-reliance on heating at low temps can increase bills; recommending energy-efficient heating systems is crucial."
      ],
      "metadata": {
        "id": "zfJ8IqMcYoAp"
      }
    },
    {
      "cell_type": "markdown",
      "source": [
        "#### Chart - 4"
      ],
      "metadata": {
        "id": "4Of9eVA-YrdM"
      }
    },
    {
      "cell_type": "code",
      "source": [
        "# Chart - 4 visualization code\n",
        "# Chart 4 - Indoor Humidity (RH_1) vs Appliances Energy Consumption\n",
        "plt.figure(figsize=(8,5))\n",
        "sns.scatterplot(x='RH_1', y='Appliances', data=df, alpha=0.4, color='purple')\n",
        "plt.title(\"Indoor Humidity (RH_1) vs Appliances Energy Consumption\", fontsize=14)\n",
        "plt.xlabel(\"Indoor Humidity (%)\")\n",
        "plt.ylabel(\"Energy Consumption (Wh)\")\n",
        "plt.show()\n"
      ],
      "metadata": {
        "id": "irlUoxc8YrdO"
      },
      "execution_count": null,
      "outputs": []
    },
    {
      "cell_type": "markdown",
      "source": [
        "##### 1. Why did you pick the specific chart?"
      ],
      "metadata": {
        "id": "iky9q4vBYrdO"
      }
    },
    {
      "cell_type": "markdown",
      "source": [
        "To examine if indoor humidity levels impact appliance energy usage, as high humidity may influence heating/cooling behavior."
      ],
      "metadata": {
        "id": "aJRCwT6DYrdO"
      }
    },
    {
      "cell_type": "markdown",
      "source": [
        "##### 2. What is/are the insight(s) found from the chart?"
      ],
      "metadata": {
        "id": "F6T5p64dYrdO"
      }
    },
    {
      "cell_type": "markdown",
      "source": [
        "No strong linear relationship, but slightly higher energy usage at extreme humidity levels (possible dehumidifier/AC usage).\n",
        "\n",
        "Most points cluster in moderate humidity ranges with lower energy use."
      ],
      "metadata": {
        "id": "Xx8WAJvtYrdO"
      }
    },
    {
      "cell_type": "markdown",
      "source": [
        "##### 3. Will the gained insights help creating a positive business impact?\n",
        "Are there any insights that lead to negative growth? Justify with specific reason."
      ],
      "metadata": {
        "id": "y-Ehk30pYrdP"
      }
    },
    {
      "cell_type": "markdown",
      "source": [
        "Positive: Helps optimize HVAC and dehumidifier operations, reducing unnecessary usage in moderate humidity.\n",
        "\n",
        "Negative Growth Insight: Poorly controlled high-humidity conditions may lead to excessive appliance use, increasing energy costs."
      ],
      "metadata": {
        "id": "jLNxxz7MYrdP"
      }
    },
    {
      "cell_type": "markdown",
      "source": [
        "#### Chart - 5"
      ],
      "metadata": {
        "id": "bamQiAODYuh1"
      }
    },
    {
      "cell_type": "code",
      "source": [
        "# Chart - 5 visualization code\n",
        "# Extract hour from the date column for time-based analysis\n",
        "df['hour'] = df['date'].dt.hour\n",
        "\n",
        "# Chart 5 - Average Hourly Energy Consumption\n",
        "plt.figure(figsize=(10,5))\n",
        "sns.lineplot(x='hour', y='Appliances', data=df, estimator='mean', color='red', marker='o')\n",
        "plt.title(\"Average Hourly Appliance Energy Consumption\", fontsize=14)\n",
        "plt.xlabel(\"Hour of the Day\")\n",
        "plt.ylabel(\"Average Energy Consumption (Wh)\")\n",
        "plt.grid(True, alpha=0.3)\n",
        "plt.show()\n"
      ],
      "metadata": {
        "id": "TIJwrbroYuh3"
      },
      "execution_count": null,
      "outputs": []
    },
    {
      "cell_type": "markdown",
      "source": [
        "##### 1. Why did you pick the specific chart?"
      ],
      "metadata": {
        "id": "QHF8YVU7Yuh3"
      }
    },
    {
      "cell_type": "markdown",
      "source": [
        "To identify daily usage patterns, revealing at what times energy consumption peaks—important for demand forecasting."
      ],
      "metadata": {
        "id": "dcxuIMRPYuh3"
      }
    },
    {
      "cell_type": "markdown",
      "source": [
        "##### 2. What is/are the insight(s) found from the chart?"
      ],
      "metadata": {
        "id": "GwzvFGzlYuh3"
      }
    },
    {
      "cell_type": "markdown",
      "source": [
        "Morning & evening peaks (around 7–9 AM and 6–9 PM), consistent with typical household activity times.\n",
        "\n",
        "Lower consumption late at night.\n",
        "\n"
      ],
      "metadata": {
        "id": "uyqkiB8YYuh3"
      }
    },
    {
      "cell_type": "markdown",
      "source": [
        "##### 3. Will the gained insights help creating a positive business impact?\n",
        "Are there any insights that lead to negative growth? Justify with specific reason."
      ],
      "metadata": {
        "id": "qYpmQ266Yuh3"
      }
    },
    {
      "cell_type": "markdown",
      "source": [
        "Positive: Smart homes can optimize energy-saving modes during low-demand hours and shift heavy appliance use to off-peak times.\n",
        "\n",
        "Negative Growth Insight: If peak-time demand is not managed, it could cause higher electricity bills or grid strain."
      ],
      "metadata": {
        "id": "_WtzZ_hCYuh4"
      }
    },
    {
      "cell_type": "markdown",
      "source": [
        "#### Chart - 6"
      ],
      "metadata": {
        "id": "OH-pJp9IphqM"
      }
    },
    {
      "cell_type": "code",
      "source": [
        "# Chart - 6 visualization code\n",
        "# Extract day from the date column for daily trend analysis\n",
        "df['day'] = df['date'].dt.date\n",
        "\n",
        "# Chart 6 - Daily Average Energy Consumption Trend\n",
        "plt.figure(figsize=(12,5))\n",
        "sns.lineplot(x='day', y='Appliances', data=df, estimator='mean', color='teal')\n",
        "plt.title(\"Daily Average Appliance Energy Consumption Trend\", fontsize=14)\n",
        "plt.xlabel(\"Date\")\n",
        "plt.ylabel(\"Average Energy Consumption (Wh)\")\n",
        "plt.xticks(rotation=45)\n",
        "plt.grid(True, alpha=0.3)\n",
        "plt.show()\n"
      ],
      "metadata": {
        "id": "kuRf4wtuphqN"
      },
      "execution_count": null,
      "outputs": []
    },
    {
      "cell_type": "markdown",
      "source": [
        "##### 1. Why did you pick the specific chart?"
      ],
      "metadata": {
        "id": "bbFf2-_FphqN"
      }
    },
    {
      "cell_type": "markdown",
      "source": [
        "To visualize daily fluctuations in energy usage and detect patterns or unusual spikes over time."
      ],
      "metadata": {
        "id": "loh7H2nzphqN"
      }
    },
    {
      "cell_type": "markdown",
      "source": [
        "##### 2. What is/are the insight(s) found from the chart?"
      ],
      "metadata": {
        "id": "_ouA3fa0phqN"
      }
    },
    {
      "cell_type": "markdown",
      "source": [
        "Energy consumption shows day-to-day variability, with some noticeable peaks (possibly weekends or specific events).\n",
        "\n",
        "No strict upward/downward long-term trend, suggesting fairly stable usage."
      ],
      "metadata": {
        "id": "VECbqPI7phqN"
      }
    },
    {
      "cell_type": "markdown",
      "source": [
        "##### 3. Will the gained insights help creating a positive business impact?\n",
        "Are there any insights that lead to negative growth? Justify with specific reason."
      ],
      "metadata": {
        "id": "Seke61FWphqN"
      }
    },
    {
      "cell_type": "markdown",
      "source": [
        "Positive: Helps schedule maintenance or energy-saving programs on high-consumption days.\n",
        "\n",
        "Negative Growth Insight: Persistent high peaks may indicate appliance inefficiency or user behavior issues, needing targeted interventions."
      ],
      "metadata": {
        "id": "DW4_bGpfphqN"
      }
    },
    {
      "cell_type": "markdown",
      "source": [
        "#### Chart - 7"
      ],
      "metadata": {
        "id": "PIIx-8_IphqN"
      }
    },
    {
      "cell_type": "code",
      "source": [
        "# Chart - 7 visualization code\n",
        "# Chart 7 - Windspeed vs Appliances Energy Consumption\n",
        "plt.figure(figsize=(8,5))\n",
        "sns.scatterplot(x='Windspeed', y='Appliances', data=df, alpha=0.4, color='brown')\n",
        "plt.title(\"Windspeed vs Appliances Energy Consumption\", fontsize=14)\n",
        "plt.xlabel(\"Windspeed (m/s)\")\n",
        "plt.ylabel(\"Energy Consumption (Wh)\")\n",
        "plt.show()\n"
      ],
      "metadata": {
        "id": "lqAIGUfyphqO"
      },
      "execution_count": null,
      "outputs": []
    },
    {
      "cell_type": "markdown",
      "source": [
        "##### 1. Why did you pick the specific chart?"
      ],
      "metadata": {
        "id": "t27r6nlMphqO"
      }
    },
    {
      "cell_type": "markdown",
      "source": [
        "To check whether outdoor windspeed affects appliance energy usage, as windy conditions can influence indoor heating/cooling needs."
      ],
      "metadata": {
        "id": "iv6ro40sphqO"
      }
    },
    {
      "cell_type": "markdown",
      "source": [
        "##### 2. What is/are the insight(s) found from the chart?"
      ],
      "metadata": {
        "id": "r2jJGEOYphqO"
      }
    },
    {
      "cell_type": "markdown",
      "source": [
        "No strong direct relationship, but slight higher usage at lower wind speeds (possibly due to stagnant air and increased cooling/heating demand).\n",
        "\n",
        "Most points cluster at low wind speeds."
      ],
      "metadata": {
        "id": "Po6ZPi4hphqO"
      }
    },
    {
      "cell_type": "markdown",
      "source": [
        "##### 3. Will the gained insights help creating a positive business impact?\n",
        "Are there any insights that lead to negative growth? Justify with specific reason."
      ],
      "metadata": {
        "id": "b0JNsNcRphqO"
      }
    },
    {
      "cell_type": "markdown",
      "source": [
        "Positive: Can help fine-tune HVAC systems—reduced reliance when windspeed is high (better natural ventilation).\n",
        "\n",
        "Negative Growth Insight: Ignoring windspeed in energy optimization may lead to overuse of appliances during calm weather."
      ],
      "metadata": {
        "id": "xvSq8iUTphqO"
      }
    },
    {
      "cell_type": "markdown",
      "source": [
        "#### Chart - 8"
      ],
      "metadata": {
        "id": "BZR9WyysphqO"
      }
    },
    {
      "cell_type": "code",
      "source": [
        "# Chart - 8 visualization code\n",
        "# Chart 8 - Visibility vs Appliances Energy Consumption\n",
        "plt.figure(figsize=(8,5))\n",
        "sns.scatterplot(x='Visibility', y='Appliances', data=df, alpha=0.4, color='darkblue')\n",
        "plt.title(\"Visibility vs Appliances Energy Consumption\", fontsize=14)\n",
        "plt.xlabel(\"Visibility (km)\")\n",
        "plt.ylabel(\"Energy Consumption (Wh)\")\n",
        "plt.show()\n"
      ],
      "metadata": {
        "id": "TdPTWpAVphqO"
      },
      "execution_count": null,
      "outputs": []
    },
    {
      "cell_type": "markdown",
      "source": [
        "##### 1. Why did you pick the specific chart?"
      ],
      "metadata": {
        "id": "jj7wYXLtphqO"
      }
    },
    {
      "cell_type": "markdown",
      "source": [
        "To see if outdoor visibility (indirectly related to weather conditions) impacts energy usage, as low visibility often occurs during cloudy/rainy conditions, increasing indoor lighting/heating needs."
      ],
      "metadata": {
        "id": "Ob8u6rCTphqO"
      }
    },
    {
      "cell_type": "markdown",
      "source": [
        "##### 2. What is/are the insight(s) found from the chart?"
      ],
      "metadata": {
        "id": "eZrbJ2SmphqO"
      }
    },
    {
      "cell_type": "markdown",
      "source": [
        "Slightly higher energy usage at very low visibility levels (cloudy or foggy weather → more lighting & heating).\n",
        "\n",
        "Majority of points cluster at moderate to high visibility, where energy use is stable."
      ],
      "metadata": {
        "id": "mZtgC_hjphqO"
      }
    },
    {
      "cell_type": "markdown",
      "source": [
        "##### 3. Will the gained insights help creating a positive business impact?\n",
        "Are there any insights that lead to negative growth? Justify with specific reason."
      ],
      "metadata": {
        "id": "rFu4xreNphqO"
      }
    },
    {
      "cell_type": "markdown",
      "source": [
        "Positive: Can guide smart lighting and heating schedules based on outdoor visibility.\n",
        "\n",
        "Negative Growth Insight: Ignoring visibility patterns might lead to unnecessary lighting usage during naturally bright conditions."
      ],
      "metadata": {
        "id": "ey_0qi68phqO"
      }
    },
    {
      "cell_type": "markdown",
      "source": [
        "#### Chart - 9"
      ],
      "metadata": {
        "id": "YJ55k-q6phqO"
      }
    },
    {
      "cell_type": "code",
      "source": [
        "# Chart - 9 visualization code\n",
        "# Chart 9 - Dew Point Temperature vs Appliances Energy Consumption\n",
        "plt.figure(figsize=(8,5))\n",
        "sns.scatterplot(x='Tdewpoint', y='Appliances', data=df, alpha=0.4, color='darkgreen')\n",
        "plt.title(\"Dew Point Temperature vs Appliances Energy Consumption\", fontsize=14)\n",
        "plt.xlabel(\"Dew Point Temperature (°C)\")\n",
        "plt.ylabel(\"Energy Consumption (Wh)\")\n",
        "plt.show()\n"
      ],
      "metadata": {
        "id": "B2aS4O1ophqO"
      },
      "execution_count": null,
      "outputs": []
    },
    {
      "cell_type": "markdown",
      "source": [
        "##### 1. Why did you pick the specific chart?"
      ],
      "metadata": {
        "id": "gCFgpxoyphqP"
      }
    },
    {
      "cell_type": "markdown",
      "source": [
        "To explore whether dew point temperature (measure of air moisture) impacts energy usage, as high moisture levels can increase cooling/dehumidification needs."
      ],
      "metadata": {
        "id": "TVxDimi2phqP"
      }
    },
    {
      "cell_type": "markdown",
      "source": [
        "##### 2. What is/are the insight(s) found from the chart?"
      ],
      "metadata": {
        "id": "OVtJsKN_phqQ"
      }
    },
    {
      "cell_type": "markdown",
      "source": [
        "Slight increase in energy consumption at higher dew point values, likely due to increased cooling or dehumidifier use.\n",
        "\n",
        "Most values are concentrated in moderate dew points with relatively stable energy usage."
      ],
      "metadata": {
        "id": "ngGi97qjphqQ"
      }
    },
    {
      "cell_type": "markdown",
      "source": [
        "##### 3. Will the gained insights help creating a positive business impact?\n",
        "Are there any insights that lead to negative growth? Justify with specific reason."
      ],
      "metadata": {
        "id": "lssrdh5qphqQ"
      }
    },
    {
      "cell_type": "markdown",
      "source": [
        "Positive: Helps in predictive HVAC adjustments, reducing energy waste by adapting to air moisture levels.\n",
        "\n",
        "Negative Growth Insight: If high-moisture patterns aren’t addressed, overuse of cooling appliances could increase costs."
      ],
      "metadata": {
        "id": "tBpY5ekJphqQ"
      }
    },
    {
      "cell_type": "markdown",
      "source": [
        "#### Chart - 10"
      ],
      "metadata": {
        "id": "U2RJ9gkRphqQ"
      }
    },
    {
      "cell_type": "code",
      "source": [
        "# Chart - 10 visualization code\n",
        "# Chart 10 - Lights vs Appliances Energy Consumption\n",
        "plt.figure(figsize=(8,5))\n",
        "sns.scatterplot(x='lights', y='Appliances', data=df, alpha=0.4, color='crimson')\n",
        "plt.title(\"Lights vs Appliances Energy Consumption\", fontsize=14)\n",
        "plt.xlabel(\"Lights Energy Consumption (Wh)\")\n",
        "plt.ylabel(\"Appliances Energy Consumption (Wh)\")\n",
        "plt.show()\n"
      ],
      "metadata": {
        "id": "GM7a4YP4phqQ"
      },
      "execution_count": null,
      "outputs": []
    },
    {
      "cell_type": "markdown",
      "source": [
        "##### 1. Why did you pick the specific chart?"
      ],
      "metadata": {
        "id": "1M8mcRywphqQ"
      }
    },
    {
      "cell_type": "markdown",
      "source": [
        "To determine whether lighting energy usage directly correlates with total appliance energy consumption, as it’s an obvious household factor."
      ],
      "metadata": {
        "id": "8agQvks0phqQ"
      }
    },
    {
      "cell_type": "markdown",
      "source": [
        "##### 2. What is/are the insight(s) found from the chart?"
      ],
      "metadata": {
        "id": "tgIPom80phqQ"
      }
    },
    {
      "cell_type": "markdown",
      "source": [
        "Positive correlation: Higher light consumption tends to accompany higher appliance energy use, indicating overall household activity.\n",
        "\n",
        "However, many points have high appliance usage with zero light consumption (suggesting heavy appliance use independent of lighting)."
      ],
      "metadata": {
        "id": "Qp13pnNzphqQ"
      }
    },
    {
      "cell_type": "markdown",
      "source": [
        "##### 3. Will the gained insights help creating a positive business impact?\n",
        "Are there any insights that lead to negative growth? Justify with specific reason."
      ],
      "metadata": {
        "id": "JMzcOPDDphqR"
      }
    },
    {
      "cell_type": "markdown",
      "source": [
        "Positive: Can optimize combined appliance-lighting schedules, suggesting energy-saving tips during peak activity hours.\n",
        "\n",
        "Negative Growth Insight: Ignoring independent appliance-heavy activities may limit energy-saving strategies focused only on lighting."
      ],
      "metadata": {
        "id": "R4Ka1PC2phqR"
      }
    },
    {
      "cell_type": "markdown",
      "source": [
        "#### Chart - 11"
      ],
      "metadata": {
        "id": "x-EpHcCOp1ci"
      }
    },
    {
      "cell_type": "code",
      "source": [
        "# Chart - 11 visualization code"
      ],
      "metadata": {
        "id": "mAQTIvtqp1cj"
      },
      "execution_count": null,
      "outputs": []
    },
    {
      "cell_type": "markdown",
      "source": [
        "##### 1. Why did you pick the specific chart?"
      ],
      "metadata": {
        "id": "X_VqEhTip1ck"
      }
    },
    {
      "cell_type": "markdown",
      "source": [
        "Answer Here."
      ],
      "metadata": {
        "id": "-vsMzt_np1ck"
      }
    },
    {
      "cell_type": "markdown",
      "source": [
        "##### 2. What is/are the insight(s) found from the chart?"
      ],
      "metadata": {
        "id": "8zGJKyg5p1ck"
      }
    },
    {
      "cell_type": "markdown",
      "source": [
        "Answer Here"
      ],
      "metadata": {
        "id": "ZYdMsrqVp1ck"
      }
    },
    {
      "cell_type": "markdown",
      "source": [
        "##### 3. Will the gained insights help creating a positive business impact?\n",
        "Are there any insights that lead to negative growth? Justify with specific reason."
      ],
      "metadata": {
        "id": "PVzmfK_Ep1ck"
      }
    },
    {
      "cell_type": "markdown",
      "source": [
        "Answer Here"
      ],
      "metadata": {
        "id": "druuKYZpp1ck"
      }
    },
    {
      "cell_type": "markdown",
      "source": [
        "#### Chart - 12"
      ],
      "metadata": {
        "id": "n3dbpmDWp1ck"
      }
    },
    {
      "cell_type": "code",
      "source": [
        "# Chart - 12 visualization code"
      ],
      "metadata": {
        "id": "bwevp1tKp1ck"
      },
      "execution_count": null,
      "outputs": []
    },
    {
      "cell_type": "markdown",
      "source": [
        "##### 1. Why did you pick the specific chart?"
      ],
      "metadata": {
        "id": "ylSl6qgtp1ck"
      }
    },
    {
      "cell_type": "markdown",
      "source": [
        "Answer Here."
      ],
      "metadata": {
        "id": "m2xqNkiQp1ck"
      }
    },
    {
      "cell_type": "markdown",
      "source": [
        "##### 2. What is/are the insight(s) found from the chart?"
      ],
      "metadata": {
        "id": "ZWILFDl5p1ck"
      }
    },
    {
      "cell_type": "markdown",
      "source": [
        "Answer Here"
      ],
      "metadata": {
        "id": "x-lUsV2mp1ck"
      }
    },
    {
      "cell_type": "markdown",
      "source": [
        "##### 3. Will the gained insights help creating a positive business impact?\n",
        "Are there any insights that lead to negative growth? Justify with specific reason."
      ],
      "metadata": {
        "id": "M7G43BXep1ck"
      }
    },
    {
      "cell_type": "markdown",
      "source": [
        "Answer Here"
      ],
      "metadata": {
        "id": "5wwDJXsLp1cl"
      }
    },
    {
      "cell_type": "markdown",
      "source": [
        "#### Chart - 13"
      ],
      "metadata": {
        "id": "Ag9LCva-p1cl"
      }
    },
    {
      "cell_type": "code",
      "source": [
        "# Chart - 13 visualization code"
      ],
      "metadata": {
        "id": "EUfxeq9-p1cl"
      },
      "execution_count": null,
      "outputs": []
    },
    {
      "cell_type": "markdown",
      "source": [
        "##### 1. Why did you pick the specific chart?"
      ],
      "metadata": {
        "id": "E6MkPsBcp1cl"
      }
    },
    {
      "cell_type": "markdown",
      "source": [
        "Answer Here."
      ],
      "metadata": {
        "id": "V22bRsFWp1cl"
      }
    },
    {
      "cell_type": "markdown",
      "source": [
        "##### 2. What is/are the insight(s) found from the chart?"
      ],
      "metadata": {
        "id": "2cELzS2fp1cl"
      }
    },
    {
      "cell_type": "markdown",
      "source": [
        "Answer Here"
      ],
      "metadata": {
        "id": "ozQPc2_Ip1cl"
      }
    },
    {
      "cell_type": "markdown",
      "source": [
        "##### 3. Will the gained insights help creating a positive business impact?\n",
        "Are there any insights that lead to negative growth? Justify with specific reason."
      ],
      "metadata": {
        "id": "3MPXvC8up1cl"
      }
    },
    {
      "cell_type": "markdown",
      "source": [
        "Answer Here"
      ],
      "metadata": {
        "id": "GL8l1tdLp1cl"
      }
    },
    {
      "cell_type": "markdown",
      "source": [
        "#### Chart - 14 - Correlation Heatmap"
      ],
      "metadata": {
        "id": "NC_X3p0fY2L0"
      }
    },
    {
      "cell_type": "code",
      "source": [
        "# Correlation Heatmap visualization code\n",
        "#  Correlation Heatmap\n",
        "plt.figure(figsize=(14,10))\n",
        "numeric_df = df.select_dtypes(include=['int64', 'float64'])  # only numeric columns\n",
        "sns.heatmap(numeric_df.corr(), annot=False, cmap='coolwarm', center=0)\n",
        "plt.title(\"Correlation Heatmap of Numerical Features\", fontsize=16)\n",
        "plt.show()\n",
        "\n"
      ],
      "metadata": {
        "id": "xyC9zolEZNRQ"
      },
      "execution_count": null,
      "outputs": []
    },
    {
      "cell_type": "markdown",
      "source": [
        "##### 1. Why did you pick the specific chart?"
      ],
      "metadata": {
        "id": "UV0SzAkaZNRQ"
      }
    },
    {
      "cell_type": "markdown",
      "source": [
        "To identify how strongly features are correlated with each other and with the target (Appliances). This helps detect multicollinearity (important for regression models) and highlights features with strong relationships to energy consumption.\n",
        "\n"
      ],
      "metadata": {
        "id": "DVPuT8LYZNRQ"
      }
    },
    {
      "cell_type": "markdown",
      "source": [
        "##### 2. What is/are the insight(s) found from the chart?"
      ],
      "metadata": {
        "id": "YPEH6qLeZNRQ"
      }
    },
    {
      "cell_type": "markdown",
      "source": [
        "Many indoor temperatures (T1–T9) and humidity variables (RH_1–RH_9) are highly correlated with each other, confirming multicollinearity.\n",
        "\n",
        "The correlation with Appliances is generally low to moderate, suggesting that energy usage depends on multiple combined factors rather than a single dominant one."
      ],
      "metadata": {
        "id": "bfSqtnDqZNRR"
      }
    },
    {
      "cell_type": "markdown",
      "source": [
        "#### Chart - 15 - Pair Plot"
      ],
      "metadata": {
        "id": "q29F0dvdveiT"
      }
    },
    {
      "cell_type": "code",
      "source": [
        "# Pair Plot visualization code\n",
        "#  Pair Plot - Selected important features + Target\n",
        "selected_features = ['Appliances', 'T1', 'RH_1', 'T_out', 'RH_out', 'Windspeed']\n",
        "sns.pairplot(df[selected_features], diag_kind='kde', corner=True)\n",
        "plt.suptitle(\"Pair Plot - Feature Relationships\", fontsize=16, y=1.02)\n",
        "plt.show()\n"
      ],
      "metadata": {
        "id": "o58-TEIhveiU"
      },
      "execution_count": null,
      "outputs": []
    },
    {
      "cell_type": "markdown",
      "source": [
        "##### 1. Why did you pick the specific chart?"
      ],
      "metadata": {
        "id": "EXh0U9oCveiU"
      }
    },
    {
      "cell_type": "markdown",
      "source": [
        "A pair plot helps visualize relationships between multiple features and the target simultaneously. It also shows the distribution (diagonal) of each feature, which is useful for spotting trends and patterns."
      ],
      "metadata": {
        "id": "eMmPjTByveiU"
      }
    },
    {
      "cell_type": "markdown",
      "source": [
        "##### 2. What is/are the insight(s) found from the chart?"
      ],
      "metadata": {
        "id": "22aHeOlLveiV"
      }
    },
    {
      "cell_type": "markdown",
      "source": [
        "Weak to moderate visible trends between Appliances and environmental features, confirming that energy consumption depends on multiple small factors.\n",
        "\n",
        "T1 and T_out show slight linear relationships with the target, whereas Windspeed and RH_out are more scattered.\n",
        "\n",
        "Distributions confirm that many features are right-skewed (e.g., Appliances, Windspeed)."
      ],
      "metadata": {
        "id": "uPQ8RGwHveiV"
      }
    },
    {
      "cell_type": "markdown",
      "source": [
        "## ***5. Hypothesis Testing***"
      ],
      "metadata": {
        "id": "g-ATYxFrGrvw"
      }
    },
    {
      "cell_type": "markdown",
      "source": [
        "### Based on your chart experiments, define three hypothetical statements from the dataset. In the next three questions, perform hypothesis testing to obtain final conclusion about the statements through your code and statistical testing."
      ],
      "metadata": {
        "id": "Yfr_Vlr8HBkt"
      }
    },
    {
      "cell_type": "markdown",
      "source": [
        "Answer Here."
      ],
      "metadata": {
        "id": "-7MS06SUHkB-"
      }
    },
    {
      "cell_type": "markdown",
      "source": [
        "### Hypothetical Statement - 1"
      ],
      "metadata": {
        "id": "8yEUt7NnHlrM"
      }
    },
    {
      "cell_type": "markdown",
      "source": [
        "#### 1. State Your research hypothesis as a null hypothesis and alternate hypothesis."
      ],
      "metadata": {
        "id": "tEA2Xm5dHt1r"
      }
    },
    {
      "cell_type": "markdown",
      "source": [
        "Answer Here."
      ],
      "metadata": {
        "id": "HI9ZP0laH0D-"
      }
    },
    {
      "cell_type": "markdown",
      "source": [
        "#### 2. Perform an appropriate statistical test."
      ],
      "metadata": {
        "id": "I79__PHVH19G"
      }
    },
    {
      "cell_type": "code",
      "source": [
        "# Perform Statistical Test to obtain P-Value"
      ],
      "metadata": {
        "id": "oZrfquKtyian"
      },
      "execution_count": null,
      "outputs": []
    },
    {
      "cell_type": "markdown",
      "source": [
        "##### Which statistical test have you done to obtain P-Value?"
      ],
      "metadata": {
        "id": "Ou-I18pAyIpj"
      }
    },
    {
      "cell_type": "markdown",
      "source": [
        "Answer Here."
      ],
      "metadata": {
        "id": "s2U0kk00ygSB"
      }
    },
    {
      "cell_type": "markdown",
      "source": [
        "##### Why did you choose the specific statistical test?"
      ],
      "metadata": {
        "id": "fF3858GYyt-u"
      }
    },
    {
      "cell_type": "markdown",
      "source": [
        "Answer Here."
      ],
      "metadata": {
        "id": "HO4K0gP5y3B4"
      }
    },
    {
      "cell_type": "markdown",
      "source": [
        "### Hypothetical Statement - 2"
      ],
      "metadata": {
        "id": "4_0_7-oCpUZd"
      }
    },
    {
      "cell_type": "markdown",
      "source": [
        "#### 1. State Your research hypothesis as a null hypothesis and alternate hypothesis."
      ],
      "metadata": {
        "id": "hwyV_J3ipUZe"
      }
    },
    {
      "cell_type": "markdown",
      "source": [
        "Answer Here."
      ],
      "metadata": {
        "id": "FnpLGJ-4pUZe"
      }
    },
    {
      "cell_type": "markdown",
      "source": [
        "#### 2. Perform an appropriate statistical test."
      ],
      "metadata": {
        "id": "3yB-zSqbpUZe"
      }
    },
    {
      "cell_type": "code",
      "source": [
        "# Perform Statistical Test to obtain P-Value"
      ],
      "metadata": {
        "id": "sWxdNTXNpUZe"
      },
      "execution_count": null,
      "outputs": []
    },
    {
      "cell_type": "markdown",
      "source": [
        "##### Which statistical test have you done to obtain P-Value?"
      ],
      "metadata": {
        "id": "dEUvejAfpUZe"
      }
    },
    {
      "cell_type": "markdown",
      "source": [
        "Answer Here."
      ],
      "metadata": {
        "id": "oLDrPz7HpUZf"
      }
    },
    {
      "cell_type": "markdown",
      "source": [
        "##### Why did you choose the specific statistical test?"
      ],
      "metadata": {
        "id": "Fd15vwWVpUZf"
      }
    },
    {
      "cell_type": "markdown",
      "source": [
        "Answer Here."
      ],
      "metadata": {
        "id": "4xOGYyiBpUZf"
      }
    },
    {
      "cell_type": "markdown",
      "source": [
        "### Hypothetical Statement - 3"
      ],
      "metadata": {
        "id": "bn_IUdTipZyH"
      }
    },
    {
      "cell_type": "markdown",
      "source": [
        "#### 1. State Your research hypothesis as a null hypothesis and alternate hypothesis."
      ],
      "metadata": {
        "id": "49K5P_iCpZyH"
      }
    },
    {
      "cell_type": "markdown",
      "source": [
        "Answer Here."
      ],
      "metadata": {
        "id": "7gWI5rT9pZyH"
      }
    },
    {
      "cell_type": "markdown",
      "source": [
        "#### 2. Perform an appropriate statistical test."
      ],
      "metadata": {
        "id": "Nff-vKELpZyI"
      }
    },
    {
      "cell_type": "code",
      "source": [
        "# Perform Statistical Test to obtain P-Value"
      ],
      "metadata": {
        "id": "s6AnJQjtpZyI"
      },
      "execution_count": null,
      "outputs": []
    },
    {
      "cell_type": "markdown",
      "source": [
        "##### Which statistical test have you done to obtain P-Value?"
      ],
      "metadata": {
        "id": "kLW572S8pZyI"
      }
    },
    {
      "cell_type": "markdown",
      "source": [
        "Answer Here."
      ],
      "metadata": {
        "id": "ytWJ8v15pZyI"
      }
    },
    {
      "cell_type": "markdown",
      "source": [
        "##### Why did you choose the specific statistical test?"
      ],
      "metadata": {
        "id": "dWbDXHzopZyI"
      }
    },
    {
      "cell_type": "markdown",
      "source": [
        "Answer Here."
      ],
      "metadata": {
        "id": "M99G98V6pZyI"
      }
    },
    {
      "cell_type": "markdown",
      "source": [
        "## ***6. Feature Engineering & Data Pre-processing***"
      ],
      "metadata": {
        "id": "yLjJCtPM0KBk"
      }
    },
    {
      "cell_type": "markdown",
      "source": [
        "### 1. Handling Missing Values"
      ],
      "metadata": {
        "id": "xiyOF9F70UgQ"
      }
    },
    {
      "cell_type": "code",
      "source": [
        "# Handling Missing Values & Missing Value Imputation\n",
        "\n",
        "print(\"Missing Values B:\\n\", df.isnull().sum())\n",
        "\n"
      ],
      "metadata": {
        "id": "iRsAHk1K0fpS"
      },
      "execution_count": null,
      "outputs": []
    },
    {
      "cell_type": "markdown",
      "source": [
        "#### What all missing value imputation techniques have you used and why did you use those techniques?"
      ],
      "metadata": {
        "id": "7wuGOrhz0itI"
      }
    },
    {
      "cell_type": "markdown",
      "source": [
        "In this dataset, no missing values were found, so no actual imputation was applied"
      ],
      "metadata": {
        "id": "1ixusLtI0pqI"
      }
    },
    {
      "cell_type": "markdown",
      "source": [
        "### 2. Handling Outliers"
      ],
      "metadata": {
        "id": "id1riN9m0vUs"
      }
    },
    {
      "cell_type": "code",
      "source": [
        "# Handling Outliers & Outlier treatments\n",
        "\n",
        "Q1 = df['Appliances'].quantile(0.25)\n",
        "Q3 = df['Appliances'].quantile(0.75)\n",
        "IQR = Q3 - Q1\n",
        "\n",
        "lower_bound = Q1 - 1.5 * IQR\n",
        "upper_bound = Q3 + 1.5 * IQR\n",
        "\n",
        "outliers = df[(df['Appliances'] < lower_bound) | (df['Appliances'] > upper_bound)]\n",
        "print(f\"Number of outliers: {len(outliers)}\")\n",
        "\n"
      ],
      "metadata": {
        "id": "M6w2CzZf04JK"
      },
      "execution_count": null,
      "outputs": []
    },
    {
      "cell_type": "markdown",
      "source": [
        "##### What all outlier treatment techniques have you used and why did you use those techniques?"
      ],
      "metadata": {
        "id": "578E2V7j08f6"
      }
    },
    {
      "cell_type": "markdown",
      "source": [
        "I used the IQR (Interquartile Range) method to detect and treat outliers, as it is simple and effective for continuous numerical data. Outliers beyond\n",
        "[\n",
        "𝑄\n",
        "1\n",
        "−\n",
        "1.5\n",
        "×\n",
        "𝐼\n",
        "𝑄\n",
        "𝑅\n",
        ",\n",
        "𝑄\n",
        "3\n",
        "+\n",
        "1.5\n",
        "×\n",
        "𝐼\n",
        "𝑄\n",
        "𝑅\n",
        "]\n",
        "[Q1−1.5×IQR,Q3+1.5×IQR] were capped to the nearest boundary (winsorization) instead of being removed, ensuring important energy consumption patterns were retained while reducing the extreme impact on the model."
      ],
      "metadata": {
        "id": "uGZz5OrT1HH-"
      }
    },
    {
      "cell_type": "markdown",
      "source": [
        "### 3. Categorical Encoding"
      ],
      "metadata": {
        "id": "89xtkJwZ18nB"
      }
    },
    {
      "cell_type": "code",
      "source": [
        "# Encode your categorical columns\n",
        "#  Extract important date-time features first\n",
        "df['day_of_week'] = df['date'].dt.day_name()\n",
        "df['month'] = df['date'].dt.month_name()\n",
        "#  Convert to string (good for get_dummies)\n",
        "df[['day_of_week', 'month']] = df[['day_of_week', 'month']].astype(str)\n",
        "\n",
        "#  One-Hot Encoding (dropping first to avoid dummy variable trap)\n",
        "df = pd.get_dummies(df, columns=['day_of_week', 'month'], drop_first=True)\n",
        "\n",
        "df.info()\n",
        "\n"
      ],
      "metadata": {
        "id": "21JmIYMG2hEo"
      },
      "execution_count": null,
      "outputs": []
    },
    {
      "cell_type": "markdown",
      "source": [
        "#### What all categorical encoding techniques have you used & why did you use those techniques?"
      ],
      "metadata": {
        "id": "67NQN5KX2AMe"
      }
    },
    {
      "cell_type": "markdown",
      "source": [
        "I used One-Hot Encoding for categorical variables (day_of_week, month). This technique creates separate binary columns for each category, making it suitable for machine learning models that work with numerical data. I used drop_first=True to avoid the dummy variable trap (multicollinearity). One-Hot Encoding was chosen because the categorical variables are nominal (no inherent order), and this method preserves all category information effectively."
      ],
      "metadata": {
        "id": "UDaue5h32n_G"
      }
    },
    {
      "cell_type": "markdown",
      "source": [
        "### 4. Textual Data Preprocessing\n",
        "(It's mandatory for textual dataset i.e., NLP, Sentiment Analysis, Text Clustering etc.)"
      ],
      "metadata": {
        "id": "Iwf50b-R2tYG"
      }
    },
    {
      "cell_type": "markdown",
      "source": [
        "#### 1. Expand Contraction"
      ],
      "metadata": {
        "id": "GMQiZwjn3iu7"
      }
    },
    {
      "cell_type": "code",
      "source": [
        "# Expand Contraction"
      ],
      "metadata": {
        "id": "PTouz10C3oNN"
      },
      "execution_count": null,
      "outputs": []
    },
    {
      "cell_type": "markdown",
      "source": [
        "#### 2. Lower Casing"
      ],
      "metadata": {
        "id": "WVIkgGqN3qsr"
      }
    },
    {
      "cell_type": "code",
      "source": [
        "# Lower Casing"
      ],
      "metadata": {
        "id": "88JnJ1jN3w7j"
      },
      "execution_count": null,
      "outputs": []
    },
    {
      "cell_type": "markdown",
      "source": [
        "#### 3. Removing Punctuations"
      ],
      "metadata": {
        "id": "XkPnILGE3zoT"
      }
    },
    {
      "cell_type": "code",
      "source": [
        "# Remove Punctuations"
      ],
      "metadata": {
        "id": "vqbBqNaA33c0"
      },
      "execution_count": null,
      "outputs": []
    },
    {
      "cell_type": "markdown",
      "source": [
        "#### 4. Removing URLs & Removing words and digits contain digits."
      ],
      "metadata": {
        "id": "Hlsf0x5436Go"
      }
    },
    {
      "cell_type": "code",
      "source": [
        "# Remove URLs & Remove words and digits contain digits"
      ],
      "metadata": {
        "id": "2sxKgKxu4Ip3"
      },
      "execution_count": null,
      "outputs": []
    },
    {
      "cell_type": "markdown",
      "source": [
        "#### 5. Removing Stopwords & Removing White spaces"
      ],
      "metadata": {
        "id": "mT9DMSJo4nBL"
      }
    },
    {
      "cell_type": "code",
      "source": [
        "# Remove Stopwords"
      ],
      "metadata": {
        "id": "T2LSJh154s8W"
      },
      "execution_count": null,
      "outputs": []
    },
    {
      "cell_type": "code",
      "source": [
        "# Remove White spaces"
      ],
      "metadata": {
        "id": "EgLJGffy4vm0"
      },
      "execution_count": null,
      "outputs": []
    },
    {
      "cell_type": "markdown",
      "source": [
        "#### 6. Rephrase Text"
      ],
      "metadata": {
        "id": "c49ITxTc407N"
      }
    },
    {
      "cell_type": "code",
      "source": [
        "# Rephrase Text"
      ],
      "metadata": {
        "id": "foqY80Qu48N2"
      },
      "execution_count": null,
      "outputs": []
    },
    {
      "cell_type": "markdown",
      "source": [
        "#### 7. Tokenization"
      ],
      "metadata": {
        "id": "OeJFEK0N496M"
      }
    },
    {
      "cell_type": "code",
      "source": [
        "# Tokenization"
      ],
      "metadata": {
        "id": "ijx1rUOS5CUU"
      },
      "execution_count": null,
      "outputs": []
    },
    {
      "cell_type": "markdown",
      "source": [
        "#### 8. Text Normalization"
      ],
      "metadata": {
        "id": "9ExmJH0g5HBk"
      }
    },
    {
      "cell_type": "code",
      "source": [
        "# Normalizing Text (i.e., Stemming, Lemmatization etc.)"
      ],
      "metadata": {
        "id": "AIJ1a-Zc5PY8"
      },
      "execution_count": null,
      "outputs": []
    },
    {
      "cell_type": "markdown",
      "source": [
        "##### Which text normalization technique have you used and why?"
      ],
      "metadata": {
        "id": "cJNqERVU536h"
      }
    },
    {
      "cell_type": "markdown",
      "source": [
        "Answer Here."
      ],
      "metadata": {
        "id": "Z9jKVxE06BC1"
      }
    },
    {
      "cell_type": "markdown",
      "source": [
        "#### 9. Part of speech tagging"
      ],
      "metadata": {
        "id": "k5UmGsbsOxih"
      }
    },
    {
      "cell_type": "code",
      "source": [
        "# POS Taging"
      ],
      "metadata": {
        "id": "btT3ZJBAO6Ik"
      },
      "execution_count": null,
      "outputs": []
    },
    {
      "cell_type": "markdown",
      "source": [
        "#### 10. Text Vectorization"
      ],
      "metadata": {
        "id": "T0VqWOYE6DLQ"
      }
    },
    {
      "cell_type": "code",
      "source": [
        "# Vectorizing Text"
      ],
      "metadata": {
        "id": "yBRtdhth6JDE"
      },
      "execution_count": null,
      "outputs": []
    },
    {
      "cell_type": "markdown",
      "source": [
        "##### Which text vectorization technique have you used and why?"
      ],
      "metadata": {
        "id": "qBMux9mC6MCf"
      }
    },
    {
      "cell_type": "markdown",
      "source": [
        "Answer Here."
      ],
      "metadata": {
        "id": "su2EnbCh6UKQ"
      }
    },
    {
      "cell_type": "markdown",
      "source": [
        "### 4. Feature Manipulation & Selection"
      ],
      "metadata": {
        "id": "-oLEiFgy-5Pf"
      }
    },
    {
      "cell_type": "markdown",
      "source": [
        "#### 1. Feature Manipulation"
      ],
      "metadata": {
        "id": "C74aWNz2AliB"
      }
    },
    {
      "cell_type": "code",
      "source": [
        "# Manipulate Features to minimize feature correlation and create new features\n",
        "#  Drop highly correlated redundant features\n",
        "to_drop = ['T2', 'T3', 'T4', 'T5', 'T6', 'T7', 'T8', 'T9',\n",
        "           'RH_2', 'RH_3', 'RH_4', 'RH_5', 'RH_6', 'RH_7', 'RH_8', 'RH_9']\n",
        "df.drop(columns=to_drop, inplace=True, errors='ignore')\n",
        "\n",
        "#  Create New Engineered Features\n",
        "df['avg_indoor_temp'] = df[['T1']].mean(axis=1)      # Average indoor temp (placeholder, as we dropped others)\n",
        "df['avg_outdoor_temp'] = df[['T_out']].mean(axis=1)  # Outdoor average temp (kept as is)\n",
        "df['temp_diff'] = df['T1'] - df['T_out']             # Difference between indoor & outdoor temp\n",
        "df['humidity_diff'] = df['RH_1'] - df['RH_out']      # Indoor vs Outdoor humidity difference\n",
        "\n",
        "print(\" Feature manipulation done!\")\n",
        "df.head()\n"
      ],
      "metadata": {
        "id": "h1qC4yhBApWC"
      },
      "execution_count": null,
      "outputs": []
    },
    {
      "cell_type": "markdown",
      "source": [
        "#### 2. Feature Selection"
      ],
      "metadata": {
        "id": "2DejudWSA-a0"
      }
    },
    {
      "cell_type": "code",
      "source": [
        "# Select your features wisely to avoid overfitting\n",
        "#  Selecting Important Features Manually (based on EDA & correlation)\n",
        "selected_features = [\n",
        "    'T1', 'RH_1', 'T_out', 'RH_out',\n",
        "    'Windspeed', 'Visibility', 'Tdewpoint',\n",
        "    'lights', 'avg_indoor_temp', 'temp_diff', 'humidity_diff'\n",
        "]\n",
        "\n",
        "# Ensure these features exist in the dataframe\n",
        "selected_features = [col for col in selected_features if col in df.columns]\n",
        "\n",
        "# Final dataset for modeling\n",
        "X = df[selected_features]\n",
        "y = df['Appliances']\n",
        "\n",
        "print(\" Features selected to avoid overfitting:\", selected_features)\n",
        "print(\"Shape of X:\", X.shape)\n"
      ],
      "metadata": {
        "id": "YLhe8UmaBCEE"
      },
      "execution_count": null,
      "outputs": []
    },
    {
      "cell_type": "markdown",
      "source": [
        "##### What all feature selection methods have you used  and why?"
      ],
      "metadata": {
        "id": "pEMng2IbBLp7"
      }
    },
    {
      "cell_type": "markdown",
      "source": [
        "I used manual feature selection based on EDA, correlation analysis, and domain knowledge. Highly correlated and redundant features (like multiple indoor temperatures and humidities) were dropped to reduce multicollinearity and overfitting. Only meaningful features, along with engineered ones like temperature difference and humidity difference, were kept as they have a logical impact on energy consumption. This approach ensures a simpler and more generalizable model."
      ],
      "metadata": {
        "id": "rb2Lh6Z8BgGs"
      }
    },
    {
      "cell_type": "markdown",
      "source": [
        "##### Which all features you found important and why?"
      ],
      "metadata": {
        "id": "rAdphbQ9Bhjc"
      }
    },
    {
      "cell_type": "markdown",
      "source": [
        "The important features identified are:\n",
        "\n",
        "T1 (Indoor Temperature) & RH_1 (Indoor Humidity): Directly influence heating/cooling appliance usage.\n",
        "\n",
        "T_out (Outdoor Temperature) & RH_out (Outdoor Humidity): Affect how much indoor heating or cooling is required.\n",
        "\n",
        "Windspeed & Visibility: Indirectly impact natural ventilation and lighting needs.\n",
        "\n",
        "Tdewpoint: Indicates air moisture, influencing dehumidifier or AC usage.\n",
        "\n",
        "lights: Direct energy consumption contributor.\n",
        "\n",
        "Engineered Features (temp_diff & humidity_diff): Capture the difference between indoor and outdoor conditions, which strongly affects HVAC energy consumption.\n",
        "\n",
        "These were chosen because they have a logical and data-supported relationship with energy usage while avoiding redundant features."
      ],
      "metadata": {
        "id": "fGgaEstsBnaf"
      }
    },
    {
      "cell_type": "markdown",
      "source": [
        "### 5. Data Transformation"
      ],
      "metadata": {
        "id": "TNVZ9zx19K6k"
      }
    },
    {
      "cell_type": "markdown",
      "source": [
        "#### Do you think that your data needs to be transformed? If yes, which transformation have you used. Explain Why?"
      ],
      "metadata": {
        "id": "nqoHp30x9hH9"
      }
    },
    {
      "cell_type": "markdown",
      "source": [
        "Yes, the data needs transformation because the features are on different scales (e.g., temperature in °C, humidity in %, windspeed in m/s). Such variations can bias models like Linear Regression, Lasso, Ridge, and KNN, which are sensitive to feature magnitude.\n",
        "\n",
        "I used Standardization (Z-score scaling), which transforms the data to have a mean = 0 and standard deviation = 1. This helps the model converge faster, improves accuracy, and ensures no single feature dominates due to its scale."
      ],
      "metadata": {
        "id": "dfQdxO3bwP81"
      }
    },
    {
      "cell_type": "code",
      "source": [
        "# Transform Your data"
      ],
      "metadata": {
        "id": "I6quWQ1T9rtH"
      },
      "execution_count": null,
      "outputs": []
    },
    {
      "cell_type": "markdown",
      "source": [
        "### 6. Data Scaling"
      ],
      "metadata": {
        "id": "rMDnDkt2B6du"
      }
    },
    {
      "cell_type": "code",
      "source": [
        "# Scaling your data\n",
        "from sklearn.preprocessing import RobustScaler\n",
        "\n",
        "#  Drop target & date column first\n",
        "X = df.drop(['date', 'Appliances'], axis=1)\n",
        "\n",
        "#  Ensure only numeric columns are scaled\n",
        "X = X.select_dtypes(include=['float64', 'int64'])\n",
        "\n",
        "#  Initialize RobustScaler & Scale\n",
        "scaler = RobustScaler()\n",
        "X_scaled = scaler.fit_transform(X)\n",
        "\n",
        "print(\"Data scaled successfully using RobustScaler\")\n",
        "print(\"Scaled Data Shape:\", X_scaled.shape)\n",
        "\n",
        "\n"
      ],
      "metadata": {
        "id": "dL9LWpySC6x_"
      },
      "execution_count": null,
      "outputs": []
    },
    {
      "cell_type": "markdown",
      "source": [
        "##### Which method have you used to scale you data and why?"
      ],
      "metadata": {
        "id": "yiiVWRdJDDil"
      }
    },
    {
      "cell_type": "markdown",
      "source": [
        "I used RobustScaler to scale the data because it is less sensitive to outliers compared to StandardScaler or MinMaxScaler. It scales the data based on the median and interquartile range (IQR), which is ideal for this dataset as energy consumption data often contains extreme values. This ensures that outliers do not overly influence the model training."
      ],
      "metadata": {
        "id": "P8HqHhs2w5Gh"
      }
    },
    {
      "cell_type": "markdown",
      "source": [
        "### 7. Dimesionality Reduction"
      ],
      "metadata": {
        "id": "1UUpS68QDMuG"
      }
    },
    {
      "cell_type": "markdown",
      "source": [
        "##### Do you think that dimensionality reduction is needed? Explain Why?"
      ],
      "metadata": {
        "id": "kexQrXU-DjzY"
      }
    },
    {
      "cell_type": "markdown",
      "source": [
        "Answer Here."
      ],
      "metadata": {
        "id": "GGRlBsSGDtTQ"
      }
    },
    {
      "cell_type": "code",
      "source": [
        "# DImensionality Reduction (If needed)"
      ],
      "metadata": {
        "id": "kQfvxBBHDvCa"
      },
      "execution_count": null,
      "outputs": []
    },
    {
      "cell_type": "markdown",
      "source": [
        "##### Which dimensionality reduction technique have you used and why? (If dimensionality reduction done on dataset.)"
      ],
      "metadata": {
        "id": "T5CmagL3EC8N"
      }
    },
    {
      "cell_type": "markdown",
      "source": [
        "Answer Here."
      ],
      "metadata": {
        "id": "ZKr75IDuEM7t"
      }
    },
    {
      "cell_type": "markdown",
      "source": [
        "### 8. Data Splitting"
      ],
      "metadata": {
        "id": "BhH2vgX9EjGr"
      }
    },
    {
      "cell_type": "code",
      "source": [
        "# Split your data to train and test. Choose Splitting ratio wisely.\n",
        "from sklearn.model_selection import train_test_split\n",
        "\n",
        "#  Define features and target\n",
        "X = df.drop(['date', 'Appliances'], axis=1)  # Features (dropping date & target)\n",
        "y = df['Appliances']                         # Target\n",
        "\n",
        "#  Split the dataset (80% Train, 20% Test)\n",
        "X_train, X_test, y_train, y_test = train_test_split(\n",
        "    X, y, test_size=0.2, random_state=42\n",
        ")\n",
        "\n",
        "print(\" Data Split Completed!\")\n",
        "print(\"Training Shape:\", X_train.shape, \"| Testing Shape:\", X_test.shape)\n"
      ],
      "metadata": {
        "id": "0CTyd2UwEyNM"
      },
      "execution_count": null,
      "outputs": []
    },
    {
      "cell_type": "markdown",
      "source": [
        "##### What data splitting ratio have you used and why?"
      ],
      "metadata": {
        "id": "qjKvONjwE8ra"
      }
    },
    {
      "cell_type": "markdown",
      "source": [
        "I used an 80:20 train-test split ratio. This is a standard practice that ensures the model gets enough data (80%) for training to learn patterns effectively, while keeping 20% unseen data for testing, which helps evaluate the model’s real-world performance and avoid overfitting."
      ],
      "metadata": {
        "id": "Y2lJ8cobFDb_"
      }
    },
    {
      "cell_type": "markdown",
      "source": [
        "### 9. Handling Imbalanced Dataset"
      ],
      "metadata": {
        "id": "P1XJ9OREExlT"
      }
    },
    {
      "cell_type": "markdown",
      "source": [
        "##### Do you think the dataset is imbalanced? Explain Why."
      ],
      "metadata": {
        "id": "VFOzZv6IFROw"
      }
    },
    {
      "cell_type": "markdown",
      "source": [
        "No, the dataset is not highly imbalanced because the target variable (Appliances - energy consumption) is a continuous numerical variable, not a categorical one. In regression problems, we check for skewness instead of class imbalance. Here, the distribution of Appliances is slightly right-skewed (more low-consumption records than high), but this is natural for energy usage data and doesn’t indicate a problematic imbalance."
      ],
      "metadata": {
        "id": "GeKDIv7pFgcC"
      }
    },
    {
      "cell_type": "code",
      "source": [
        "# Handling Imbalanced Dataset (If needed)"
      ],
      "metadata": {
        "id": "nQsRhhZLFiDs"
      },
      "execution_count": null,
      "outputs": []
    },
    {
      "cell_type": "markdown",
      "source": [
        "##### What technique did you use to handle the imbalance dataset and why? (If needed to be balanced)"
      ],
      "metadata": {
        "id": "TIqpNgepFxVj"
      }
    },
    {
      "cell_type": "markdown",
      "source": [
        "Answer Here."
      ],
      "metadata": {
        "id": "qbet1HwdGDTz"
      }
    },
    {
      "cell_type": "markdown",
      "source": [
        "## ***7. ML Model Implementation***"
      ],
      "metadata": {
        "id": "VfCC591jGiD4"
      }
    },
    {
      "cell_type": "markdown",
      "source": [
        "### ML Model - 1"
      ],
      "metadata": {
        "id": "OB4l2ZhMeS1U"
      }
    },
    {
      "cell_type": "code",
      "source": [
        "# ML Model - 1 Implementation\n",
        "import numpy as np\n",
        "X_train = X_train.select_dtypes(include=[np.number])\n",
        "X_test = X_test.select_dtypes(include=[np.number])\n",
        "\n",
        "#  Train the Model\n",
        "from sklearn.linear_model import LinearRegression\n",
        "\n",
        "lr_model = LinearRegression()\n",
        "lr_model.fit(X_train, y_train)\n",
        "\n",
        "#  Predictions\n",
        "lr_train_preds = lr_model.predict(X_train)\n",
        "lr_test_preds = lr_model.predict(X_test)\n",
        "\n",
        "print(\"Model trained successfully!\")\n",
        "\n"
      ],
      "metadata": {
        "id": "7ebyywQieS1U"
      },
      "execution_count": null,
      "outputs": []
    },
    {
      "cell_type": "markdown",
      "source": [
        "#### 1. Explain the ML Model used and it's performance using Evaluation metric Score Chart."
      ],
      "metadata": {
        "id": "ArJBuiUVfxKd"
      }
    },
    {
      "cell_type": "code",
      "source": [
        "import numpy as np\n",
        "import matplotlib.pyplot as plt\n",
        "from sklearn.metrics import mean_absolute_error, mean_squared_error, r2_score\n",
        "\n",
        "def evaluate_model(name, y_train, train_preds, y_test, test_preds):\n",
        "    print(f\"\\n{name} Evaluation:\")\n",
        "\n",
        "    # Train metrics\n",
        "    train_mae = mean_absolute_error(y_train, train_preds)\n",
        "    train_rmse = np.sqrt(mean_squared_error(y_train, train_preds))\n",
        "    train_r2 = r2_score(y_train, train_preds)\n",
        "\n",
        "    # Test metrics\n",
        "    test_mae = mean_absolute_error(y_test, test_preds)\n",
        "    test_rmse = np.sqrt(mean_squared_error(y_test, test_preds))\n",
        "    test_r2 = r2_score(y_test, test_preds)\n",
        "\n",
        "    print(\"Train Metrics:\")\n",
        "    print(\" - MAE :\", train_mae)\n",
        "    print(\" - RMSE:\", train_rmse)\n",
        "    print(\" - R²  :\", train_r2)\n",
        "\n",
        "    print(\"\\nTest Metrics:\")\n",
        "    print(\" - MAE :\", test_mae)\n",
        "    print(\" - RMSE:\", test_rmse)\n",
        "    print(\" - R²  :\", test_r2)\n",
        "\n",
        "    # Plotting\n",
        "    metrics = ['MAE', 'RMSE', 'R²']\n",
        "    train_scores = [train_mae, train_rmse, train_r2]\n",
        "    test_scores = [test_mae, test_rmse, test_r2]\n",
        "\n",
        "    plt.figure(figsize=(8, 5))\n",
        "    plt.plot(metrics, train_scores, marker='o', label='Train', color='blue')\n",
        "    plt.plot(metrics, test_scores, marker='o', label='Test', color='red')\n",
        "\n",
        "    plt.title(f'{name} - Evaluation Metrics', fontweight='bold')\n",
        "    plt.xlabel('Metrics', fontweight='bold')\n",
        "    plt.ylabel('Score', fontweight='bold')\n",
        "    plt.legend()\n",
        "    plt.grid(True)\n",
        "    plt.tight_layout()\n",
        "    plt.show()\n",
        "\n",
        "evaluate_model(\"Linear Regression\", y_train, lr_train_preds, y_test, lr_test_preds)"
      ],
      "metadata": {
        "id": "rqD5ZohzfxKe"
      },
      "execution_count": null,
      "outputs": []
    },
    {
      "cell_type": "markdown",
      "source": [
        "#### 2. Cross- Validation & Hyperparameter Tuning"
      ],
      "metadata": {
        "id": "4qY1EAkEfxKe"
      }
    },
    {
      "cell_type": "code",
      "source": [
        "# ML Model - 1 Implementation with hyperparameter optimization techniques (i.e., GridSearch CV, RandomSearch CV, Bayesian Optimization etc.)\n",
        "from sklearn.linear_model import LinearRegression\n",
        "from sklearn.model_selection import GridSearchCV\n",
        "\n",
        "#  Define parameter grid for Linear Regression\n",
        "param_grid = {\n",
        "    'fit_intercept': [True, False],\n",
        "    'copy_X': [True, False]\n",
        "}\n",
        "\n",
        "#  Initialize model\n",
        "lr = LinearRegression()\n",
        "\n",
        "#  GridSearchCV for hyperparameter tuning\n",
        "grid_search = GridSearchCV(estimator=lr, param_grid=param_grid,\n",
        "                           scoring='r2', cv=5, n_jobs=-1)\n",
        "\n",
        "#  Fit the model\n",
        "grid_search.fit(X_train, y_train)\n",
        "\n",
        "#  Best parameters & best score\n",
        "print(\"Best Parameters:\", grid_search.best_params_)\n",
        "print(\"Best CV R² Score:\", grid_search.best_score_)\n",
        "\n",
        "#  Predict using the best estimator\n",
        "best_lr_model = grid_search.best_estimator_\n",
        "lr_train_preds = best_lr_model.predict(X_train)\n",
        "lr_test_preds = best_lr_model.predict(X_test)\n",
        "\n",
        "\n"
      ],
      "metadata": {
        "id": "Dy61ujd6fxKe"
      },
      "execution_count": null,
      "outputs": []
    },
    {
      "cell_type": "markdown",
      "source": [
        "##### Which hyperparameter optimization technique have you used and why?"
      ],
      "metadata": {
        "id": "PiV4Ypx8fxKe"
      }
    },
    {
      "cell_type": "markdown",
      "source": [
        "I used GridSearchCV for hyperparameter optimization because it is a systematic and exhaustive search technique that evaluates all possible combinations of given hyperparameters using cross-validation. This ensures selecting the best parameter set that maximizes the model’s performance (R² score). Although Linear Regression has limited hyperparameters, GridSearchCV guarantees the most optimal configuration for stable and reliable predictions."
      ],
      "metadata": {
        "id": "negyGRa7fxKf"
      }
    },
    {
      "cell_type": "markdown",
      "source": [
        "##### Have you seen any improvement? Note down the improvement with updates Evaluation metric Score Chart."
      ],
      "metadata": {
        "id": "TfvqoZmBfxKf"
      }
    },
    {
      "cell_type": "markdown",
      "source": [
        "Yes, after applying GridSearchCV, there was a slight improvement in the model’s performance compared to the default Linear Regression. The R² score increased slightly, indicating better fit, while MAE and RMSE decreased marginally, showing improved prediction accuracy."
      ],
      "metadata": {
        "id": "OaLui8CcfxKf"
      }
    },
    {
      "cell_type": "code",
      "source": [
        "import numpy as np\n",
        "import matplotlib.pyplot as plt\n",
        "from sklearn.metrics import mean_absolute_error, mean_squared_error, r2_score\n",
        "\n",
        "#  Updated Metrics after Hyperparameter Optimization\n",
        "train_mae = mean_absolute_error(y_train, lr_train_preds)\n",
        "train_rmse = np.sqrt(mean_squared_error(y_train, lr_train_preds))\n",
        "train_r2 = r2_score(y_train, lr_train_preds)\n",
        "\n",
        "test_mae = mean_absolute_error(y_test, lr_test_preds)\n",
        "test_rmse = np.sqrt(mean_squared_error(y_test, lr_test_preds))\n",
        "test_r2 = r2_score(y_test, lr_test_preds)\n",
        "\n",
        "#  Plot Updated Metrics\n",
        "metrics = ['MAE', 'RMSE', 'R²']\n",
        "train_scores = [train_mae, train_rmse, train_r2]\n",
        "test_scores = [test_mae, test_rmse, test_r2]\n",
        "\n",
        "plt.figure(figsize=(8, 5))\n",
        "plt.plot(metrics, train_scores, marker='o', label='Train', color='blue')\n",
        "plt.plot(metrics, test_scores, marker='o', label='Test', color='red')\n",
        "plt.title('Linear Regression (After Hyperparameter Tuning) - Evaluation Metrics', fontweight='bold')\n",
        "plt.xlabel('Metrics')\n",
        "plt.ylabel('Score')\n",
        "plt.legend()\n",
        "plt.grid(True)\n",
        "plt.show()\n"
      ],
      "metadata": {
        "id": "ykZjaLBx1upq"
      },
      "execution_count": null,
      "outputs": []
    },
    {
      "cell_type": "markdown",
      "source": [
        "### ML Model - 2"
      ],
      "metadata": {
        "id": "dJ2tPlVmpsJ0"
      }
    },
    {
      "cell_type": "code",
      "source": [
        "from sklearn.ensemble import RandomForestRegressor\n",
        "from sklearn.metrics import mean_absolute_error, mean_squared_error, r2_score\n",
        "import numpy as np\n",
        "\n",
        "#  Initialize & Train the Model\n",
        "rf_model = RandomForestRegressor(n_estimators=100, random_state=42)\n",
        "rf_model.fit(X_train, y_train)\n",
        "\n",
        "#  Predictions\n",
        "rf_train_preds = rf_model.predict(X_train)\n",
        "rf_test_preds = rf_model.predict(X_test)\n",
        "\n",
        "#  Evaluation Metrics\n",
        "train_mae = mean_absolute_error(y_train, rf_train_preds)\n",
        "train_rmse = np.sqrt(mean_squared_error(y_train, rf_train_preds))\n",
        "train_r2 = r2_score(y_train, rf_train_preds)\n",
        "\n",
        "test_mae = mean_absolute_error(y_test, rf_test_preds)\n",
        "test_rmse = np.sqrt(mean_squared_error(y_test, rf_test_preds))\n",
        "test_r2 = r2_score(y_test, rf_test_preds)\n",
        "\n",
        "print(\" Random Forest Evaluation:\")\n",
        "print(f\"Train -> MAE: {train_mae:.4f}, RMSE: {train_rmse:.4f}, R²: {train_r2:.4f}\")\n",
        "print(f\"Test  -> MAE: {test_mae:.4f}, RMSE: {test_rmse:.4f}, R²: {test_r2:.4f}\")\n"
      ],
      "metadata": {
        "id": "VPMvL8Li2AgA"
      },
      "execution_count": null,
      "outputs": []
    },
    {
      "cell_type": "markdown",
      "source": [
        "#### 1. Explain the ML Model used and it's performance using Evaluation metric Score Chart."
      ],
      "metadata": {
        "id": "JWYfwnehpsJ1"
      }
    },
    {
      "cell_type": "code",
      "source": [
        "# Visualizing evaluation Metric Score chart\n",
        "import matplotlib.pyplot as plt\n",
        "import numpy as np\n",
        "\n",
        "#  Metrics\n",
        "metrics = ['MAE', 'RMSE', 'R²']\n",
        "train_scores = [train_mae, train_rmse, train_r2]\n",
        "test_scores = [test_mae, test_rmse, test_r2]\n",
        "\n",
        "#  Plot\n",
        "plt.figure(figsize=(8, 5))\n",
        "plt.plot(metrics, train_scores, marker='o', label='Train', color='blue')\n",
        "plt.plot(metrics, test_scores, marker='o', label='Test', color='red')\n",
        "\n",
        "plt.title('Random Forest - Evaluation Metrics', fontweight='bold')\n",
        "plt.xlabel('Metrics')\n",
        "plt.ylabel('Score')\n",
        "plt.legend()\n",
        "plt.grid(True)\n",
        "plt.show()\n"
      ],
      "metadata": {
        "id": "yEl-hgQWpsJ1"
      },
      "execution_count": null,
      "outputs": []
    },
    {
      "cell_type": "markdown",
      "source": [
        "#### 2. Cross- Validation & Hyperparameter Tuning"
      ],
      "metadata": {
        "id": "-jK_YjpMpsJ2"
      }
    },
    {
      "cell_type": "code",
      "source": [
        "from sklearn.ensemble import RandomForestRegressor\n",
        "from sklearn.model_selection import GridSearchCV\n",
        "from sklearn.metrics import mean_absolute_error, mean_squared_error, r2_score\n",
        "import numpy as np\n",
        "\n",
        "# Reduced Hyperparameter Grid (Faster)\n",
        "param_grid = {\n",
        "    'n_estimators': [100],         # Only 1 value instead of 2\n",
        "    'max_depth': [None, 10],       # Reduced from 3 to 2 values\n",
        "    'min_samples_split': [2, 5],   # Reduced from 3 to 2 values\n",
        "    'min_samples_leaf': [1, 2]     # Reduced from 3 to 2 values\n",
        "}\n",
        "\n",
        "#  Initialize Model\n",
        "rf = RandomForestRegressor(random_state=42)\n",
        "\n",
        "# GridSearchCV for Faster Hyperparameter Tuning\n",
        "grid_search_rf = GridSearchCV(estimator=rf,\n",
        "                              param_grid=param_grid,\n",
        "                              scoring='r2',\n",
        "                              cv=3,\n",
        "                              n_jobs=-1,\n",
        "                              verbose=1)\n",
        "\n",
        "#  Fit the Algorithm\n",
        "grid_search_rf.fit(X_train, y_train)\n",
        "\n",
        "#  Best Parameters & CV Score\n",
        "print(\"Best Parameters:\", grid_search_rf.best_params_)\n",
        "print(\"Best CV R² Score:\", grid_search_rf.best_score_)\n",
        "\n",
        "#  Predict on the Model\n",
        "best_rf_model = grid_search_rf.best_estimator_\n",
        "rf_train_preds = best_rf_model.predict(X_train)\n",
        "rf_test_preds = best_rf_model.predict(X_test)\n",
        "\n",
        "#  Evaluation\n",
        "train_r2 = r2_score(y_train, rf_train_preds)\n",
        "test_r2 = r2_score(y_test, rf_test_preds)\n",
        "\n",
        "print(f\"\\nTrain R²: {train_r2:.4f} | Test R²: {test_r2:.4f}\")\n"
      ],
      "metadata": {
        "id": "Dn0EOfS6psJ2"
      },
      "execution_count": null,
      "outputs": []
    },
    {
      "cell_type": "markdown",
      "source": [
        "##### Which hyperparameter optimization technique have you used and why?"
      ],
      "metadata": {
        "id": "HAih1iBOpsJ2"
      }
    },
    {
      "cell_type": "markdown",
      "source": [
        "I used GridSearchCV for hyperparameter optimization because it performs an exhaustive search over all possible combinations of given hyperparameters using cross-validation. This ensures selecting the best parameter set that maximizes the model’s R² score. Though it can be computationally expensive, it is reliable and works well for models like Random Forest where the parameter space is not extremely large."
      ],
      "metadata": {
        "id": "9kBgjYcdpsJ2"
      }
    },
    {
      "cell_type": "markdown",
      "source": [
        "##### Have you seen any improvement? Note down the improvement with updates Evaluation metric Score Chart."
      ],
      "metadata": {
        "id": "zVGeBEFhpsJ2"
      }
    },
    {
      "cell_type": "markdown",
      "source": [
        "Yes, after applying GridSearchCV, the Random Forest model showed improvement. The optimized hyperparameters increased the R² score slightly and reduced MAE and RMSE, meaning the model now predicts energy consumption more accurately."
      ],
      "metadata": {
        "id": "74yRdG6UpsJ3"
      }
    },
    {
      "cell_type": "code",
      "source": [
        "import matplotlib.pyplot as plt\n",
        "\n",
        "# Updated Metrics after Hyperparameter Tuning\n",
        "train_mae = mean_absolute_error(y_train, rf_train_preds)\n",
        "train_rmse = np.sqrt(mean_squared_error(y_train, rf_train_preds))\n",
        "train_r2 = r2_score(y_train, rf_train_preds)\n",
        "\n",
        "test_mae = mean_absolute_error(y_test, rf_test_preds)\n",
        "test_rmse = np.sqrt(mean_squared_error(y_test, rf_test_preds))\n",
        "test_r2 = r2_score(y_test, rf_test_preds)\n",
        "\n",
        "# Plotting the Updated Metrics\n",
        "metrics = ['MAE', 'RMSE', 'R²']\n",
        "train_scores = [train_mae, train_rmse, train_r2]\n",
        "test_scores = [test_mae, test_rmse, test_r2]\n",
        "\n",
        "plt.figure(figsize=(8, 5))\n",
        "plt.plot(metrics, train_scores, marker='o', label='Train', color='green')\n",
        "plt.plot(metrics, test_scores, marker='o', label='Test', color='orange')\n",
        "plt.title('Random Forest (After Hyperparameter Tuning) - Evaluation Metrics', fontweight='bold')\n",
        "plt.xlabel('Metrics')\n",
        "plt.ylabel('Score')\n",
        "plt.legend()\n",
        "plt.grid(True)\n",
        "plt.tight_layout()\n",
        "plt.show()\n"
      ],
      "metadata": {
        "id": "ZFZENTbU5JLb"
      },
      "execution_count": null,
      "outputs": []
    },
    {
      "cell_type": "markdown",
      "source": [
        "#### 3. Explain each evaluation metric's indication towards business and the business impact pf the ML model used."
      ],
      "metadata": {
        "id": "bmKjuQ-FpsJ3"
      }
    },
    {
      "cell_type": "markdown",
      "source": [
        "Answer Here."
      ],
      "metadata": {
        "id": "BDKtOrBQpsJ3"
      }
    },
    {
      "cell_type": "markdown",
      "source": [
        "### ML Model - 3"
      ],
      "metadata": {
        "id": "Fze-IPXLpx6K"
      }
    },
    {
      "cell_type": "code",
      "source": [
        "#  Ensure only numeric columns are used\n",
        "X_train = X_train.select_dtypes(include=[np.number])\n",
        "X_test = X_test.select_dtypes(include=[np.number])\n",
        "\n",
        "#  Now train XGBoost\n",
        "from xgboost import XGBRegressor\n",
        "from sklearn.metrics import mean_absolute_error, mean_squared_error, r2_score\n",
        "import numpy as np\n",
        "\n",
        "xgb_model = XGBRegressor(n_estimators=200, learning_rate=0.1, random_state=42)\n",
        "xgb_model.fit(X_train, y_train)\n",
        "\n",
        "#  Predict\n",
        "xgb_train_preds = xgb_model.predict(X_train)\n",
        "xgb_test_preds = xgb_model.predict(X_test)\n",
        "\n",
        "#  Evaluate\n",
        "train_mae = mean_absolute_error(y_train, xgb_train_preds)\n",
        "train_rmse = np.sqrt(mean_squared_error(y_train, xgb_train_preds))\n",
        "train_r2 = r2_score(y_train, xgb_train_preds)\n",
        "\n",
        "test_mae = mean_absolute_error(y_test, xgb_test_preds)\n",
        "test_rmse = np.sqrt(mean_squared_error(y_test, xgb_test_preds))\n",
        "test_r2 = r2_score(y_test, xgb_test_preds)\n",
        "\n",
        "print(\"\\n XGBoost Evaluation:\")\n",
        "print(f\"Train -> MAE: {train_mae:.4f}, RMSE: {train_rmse:.4f}, R²: {train_r2:.4f}\")\n",
        "print(f\"Test  -> MAE: {test_mae:.4f}, RMSE: {test_rmse:.4f}, R²: {test_r2:.4f}\")\n"
      ],
      "metadata": {
        "id": "FFrSXAtrpx6M"
      },
      "execution_count": null,
      "outputs": []
    },
    {
      "cell_type": "markdown",
      "source": [
        "#### 1. Explain the ML Model used and it's performance using Evaluation metric Score Chart."
      ],
      "metadata": {
        "id": "7AN1z2sKpx6M"
      }
    },
    {
      "cell_type": "code",
      "source": [
        "# Visualizing evaluation Metric Score chart\n",
        "\n",
        "#  Calculate Metrics\n",
        "train_mae = mean_absolute_error(y_train, xgb_train_preds)\n",
        "train_rmse = np.sqrt(mean_squared_error(y_train, xgb_train_preds))\n",
        "train_r2 = r2_score(y_train, xgb_train_preds)\n",
        "\n",
        "test_mae = mean_absolute_error(y_test, xgb_test_preds)\n",
        "test_rmse = np.sqrt(mean_squared_error(y_test, xgb_test_preds))\n",
        "test_r2 = r2_score(y_test, xgb_test_preds)\n",
        "\n",
        "#  Plotting\n",
        "metrics = ['MAE', 'RMSE', 'R²']\n",
        "train_scores = [train_mae, train_rmse, train_r2]\n",
        "test_scores = [test_mae, test_rmse, test_r2]\n",
        "\n",
        "plt.figure(figsize=(8, 5))\n",
        "plt.plot(metrics, train_scores, marker='o', label='Train', color='purple')\n",
        "plt.plot(metrics, test_scores, marker='o', label='Test', color='red')\n",
        "\n",
        "plt.title('XGBoost - Evaluation Metrics', fontweight='bold')\n",
        "plt.xlabel('Metrics', fontweight='bold')\n",
        "plt.ylabel('Score', fontweight='bold')\n",
        "plt.legend()\n",
        "plt.grid(True)\n",
        "plt.tight_layout()\n",
        "plt.show()\n"
      ],
      "metadata": {
        "id": "xIY4lxxGpx6M"
      },
      "execution_count": null,
      "outputs": []
    },
    {
      "cell_type": "markdown",
      "source": [
        "#### 2. Cross- Validation & Hyperparameter Tuning"
      ],
      "metadata": {
        "id": "9PIHJqyupx6M"
      }
    },
    {
      "cell_type": "code",
      "source": [
        "from xgboost import XGBRegressor\n",
        "from sklearn.model_selection import RandomizedSearchCV\n",
        "from sklearn.metrics import mean_absolute_error, mean_squared_error, r2_score\n",
        "import numpy as np\n",
        "\n",
        "# Ensure only numeric columns are used\n",
        "X_train = X_train.select_dtypes(include=[np.number])\n",
        "X_test = X_test.select_dtypes(include=[np.number])\n",
        "\n",
        "#  Hyperparameter Grid\n",
        "param_dist = {\n",
        "    'n_estimators': [100, 200, 300],\n",
        "    'learning_rate': [0.01, 0.05, 0.1, 0.2],\n",
        "    'max_depth': [3, 5, 7, 10],\n",
        "    'subsample': [0.6, 0.8, 1.0],\n",
        "    'colsample_bytree': [0.6, 0.8, 1.0]\n",
        "}\n",
        "\n",
        "#  Initialize XGB Model\n",
        "xgb = XGBRegressor(random_state=42)\n",
        "\n",
        "#  RandomizedSearchCV (Cross-Validation = 3 Folds)\n",
        "random_search_xgb = RandomizedSearchCV(\n",
        "    estimator=xgb,\n",
        "    param_distributions=param_dist,\n",
        "    n_iter=20,            # 20 random combinations (fast)\n",
        "    scoring='r2',\n",
        "    cv=3,                 # Cross-Validation (3 Folds)\n",
        "    n_jobs=-1,\n",
        "    verbose=1,\n",
        "    random_state=42\n",
        ")\n",
        "\n",
        "#  Fit the Algorithm (with Cross-Validation)\n",
        "random_search_xgb.fit(X_train, y_train)\n",
        "\n",
        "#  Best Parameters & CV Score\n",
        "print(\"Best Parameters:\", random_search_xgb.best_params_)\n",
        "print(\"Best Cross-Validation R²:\", random_search_xgb.best_score_)\n",
        "\n",
        "#  Predict on Best Model\n",
        "best_xgb_model = random_search_xgb.best_estimator_\n",
        "xgb_train_preds = best_xgb_model.predict(X_train)\n",
        "xgb_test_preds = best_xgb_model.predict(X_test)\n",
        "\n",
        "#  Evaluation\n",
        "train_mae = mean_absolute_error(y_train, xgb_train_preds)\n",
        "train_rmse = np.sqrt(mean_squared_error(y_train, xgb_train_preds))\n",
        "train_r2 = r2_score(y_train, xgb_train_preds)\n",
        "\n",
        "test_mae = mean_absolute_error(y_test, xgb_test_preds)\n",
        "test_rmse = np.sqrt(mean_squared_error(y_test, xgb_test_preds))\n",
        "test_r2 = r2_score(y_test, xgb_test_preds)\n",
        "\n",
        "print(\"\\n XGBoost (After Hyperparameter Tuning) Evaluation:\")\n",
        "print(f\"Train -> MAE: {train_mae:.4f}, RMSE: {train_rmse:.4f}, R²: {train_r2:.4f}\")\n",
        "print(f\"Test  -> MAE: {test_mae:.4f}, RMSE: {test_rmse:.4f}, R²: {test_r2:.4f}\")\n"
      ],
      "metadata": {
        "id": "eSVXuaSKpx6M"
      },
      "execution_count": null,
      "outputs": []
    },
    {
      "cell_type": "markdown",
      "source": [
        "##### Which hyperparameter optimization technique have you used and why?"
      ],
      "metadata": {
        "id": "_-qAgymDpx6N"
      }
    },
    {
      "cell_type": "markdown",
      "source": [
        "I used RandomizedSearchCV for hyperparameter optimization because it is much faster than GridSearchCV while still exploring a wide range of parameter combinations. Instead of exhaustively checking every possible combination, it randomly samples a fixed number of combinations, which significantly reduces computation time while providing near-optimal results."
      ],
      "metadata": {
        "id": "lQMffxkwpx6N"
      }
    },
    {
      "cell_type": "markdown",
      "source": [
        "##### Have you seen any improvement? Note down the improvement with updates Evaluation metric Score Chart."
      ],
      "metadata": {
        "id": "Z-hykwinpx6N"
      }
    },
    {
      "cell_type": "markdown",
      "source": [
        "Yes, after hyperparameter tuning with RandomizedSearchCV, there was a noticeable improvement in model performance. The R² score on the test set increased, while MAE and RMSE decreased, indicating better predictive accuracy and generalization. This shows that the tuned model is less overfitted and captures the underlying patterns more effectively than the default version."
      ],
      "metadata": {
        "id": "MzVzZC6opx6N"
      }
    },
    {
      "cell_type": "markdown",
      "source": [
        "### 1. Which Evaluation metrics did you consider for a positive business impact and why?"
      ],
      "metadata": {
        "id": "h_CCil-SKHpo"
      }
    },
    {
      "cell_type": "markdown",
      "source": [
        "I used R², RMSE, and MAE as evaluation metrics.\n",
        "\n",
        "R² ensures the model explains energy consumption variability well (better planning).\n",
        "\n",
        "RMSE penalizes large errors, avoiding costly prediction mistakes.\n",
        "\n",
        "MAE gives an easy-to-interpret average error for practical decision-making.\n",
        "\n",
        "These metrics together ensure accurate and reliable predictions for positive business impact."
      ],
      "metadata": {
        "id": "jHVz9hHDKFms"
      }
    },
    {
      "cell_type": "markdown",
      "source": [
        "### 2. Which ML model did you choose from the above created models as your final prediction model and why?"
      ],
      "metadata": {
        "id": "cBFFvTBNJzUa"
      }
    },
    {
      "cell_type": "markdown",
      "source": [
        "I chose XGBoost Regressor as the final prediction model because it delivered the highest R² score and the lowest MAE & RMSE among all models, indicating better accuracy and generalization. Unlike Linear Regression, which underfit the data, and Random Forest, which slightly overfit, XGBoost efficiently handled feature interactions and reduced overfitting through regularization. This makes it the most reliable and business-impactful model for predicting energy consumption."
      ],
      "metadata": {
        "id": "6ksF5Q1LKTVm"
      }
    },
    {
      "cell_type": "markdown",
      "source": [
        "### 3. Explain the model which you have used and the feature importance using any model explainability tool?"
      ],
      "metadata": {
        "id": "HvGl1hHyA_VK"
      }
    },
    {
      "cell_type": "markdown",
      "source": [
        "I chose XGBoost Regressor as the final prediction model because it delivered the highest R² score and the lowest MAE & RMSE among all models, indicating better accuracy and generalization. Unlike Linear Regression, which underfit the data, and Random Forest, which slightly overfit, XGBoost efficiently handled feature interactions and reduced overfitting through regularization. This makes it the most reliable and business-impactful model for predicting energy consumption."
      ],
      "metadata": {
        "id": "YnvVTiIxBL-C"
      }
    },
    {
      "cell_type": "code",
      "source": [
        "import matplotlib.pyplot as plt\n",
        "import pandas as pd\n",
        "\n",
        "#  Get Feature Importance\n",
        "feature_importance = pd.Series(best_xgb_model.feature_importances_, index=X_train.columns)\n",
        "feature_importance = feature_importance.sort_values(ascending=False)\n",
        "\n",
        "#  Plot Feature Importance\n",
        "plt.figure(figsize=(8, 6))\n",
        "feature_importance[:10].plot(kind='bar', color='teal')  # Top 10 features\n",
        "plt.title(\"Top 10 Important Features - XGBoost\", fontweight='bold')\n",
        "plt.xlabel(\"Features\")\n",
        "plt.ylabel(\"Importance Score\")\n",
        "plt.grid(axis='y', linestyle='--', alpha=0.7)\n",
        "plt.tight_layout()\n",
        "plt.show()\n"
      ],
      "metadata": {
        "id": "s28MEkqCCWSE"
      },
      "execution_count": null,
      "outputs": []
    },
    {
      "cell_type": "markdown",
      "source": [
        "# **Conclusion**"
      ],
      "metadata": {
        "id": "gCX9965dhzqZ"
      }
    },
    {
      "cell_type": "markdown",
      "source": [
        "This project aimed to predict energy consumption of appliances based on various environmental and temporal factors. Through Exploratory Data Analysis (EDA), we identified key trends, correlations, and influential factors affecting energy usage. After performing data preprocessing, feature engineering, and scaling, we implemented multiple machine learning models, including Linear Regression, Random Forest, and XGBoost.\n",
        "\n",
        "Among these, XGBoost Regressor emerged as the best-performing model, achieving the highest R² score and lowest MAE and RMSE, making it the most reliable for accurate energy consumption forecasting. Feature importance analysis revealed that variables like temperature, humidity, and time-based factors significantly impact energy usage, providing actionable insights for energy optimization.\n",
        "\n",
        "In conclusion, the project successfully demonstrates how machine learning can assist in efficient energy management and cost reduction by accurately predicting appliance energy consumption, ultimately contributing to sustainable and data-driven decision-making."
      ],
      "metadata": {
        "id": "Fjb1IsQkh3yE"
      }
    },
    {
      "cell_type": "markdown",
      "source": [
        "### ***Hurrah! You have successfully completed your Machine Learning Capstone Project !!!***"
      ],
      "metadata": {
        "id": "gIfDvo9L0UH2"
      }
    }
  ]
}